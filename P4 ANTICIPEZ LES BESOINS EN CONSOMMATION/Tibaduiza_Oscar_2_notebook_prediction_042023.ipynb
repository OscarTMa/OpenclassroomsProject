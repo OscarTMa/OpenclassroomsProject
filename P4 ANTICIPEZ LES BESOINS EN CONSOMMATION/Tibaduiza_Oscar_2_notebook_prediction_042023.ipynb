{
 "cells": [
  {
   "cell_type": "markdown",
   "id": "a985ce4c",
   "metadata": {},
   "source": [
    "<div class=\"alert alert-info\">\n",
    "           <h1 style=\"font-size:25px;\"><strong>Projet 4</strong></h1>\n",
    "           <h1 style=\"font-size:25px;\"><strong>Anticipez les besoins en consommation de bâtiments</strong></h1>\n",
    "</div>"
   ]
  },
  {
   "cell_type": "markdown",
   "id": "0fa6cf12",
   "metadata": {},
   "source": [
    "[camino]:LogoSeattle.png\n",
    "![alt text][camino]"
   ]
  },
  {
   "cell_type": "markdown",
   "id": "8579fc98",
   "metadata": {},
   "source": [
    "Des relevés minutieux ont été effectués par les agents de la ville en 2016. Voici les données et leur source. Cependant, ces relevés sont coûteux à obtenir, et à partir de ceux déjà réalisés, vous voulez tenter de prédire les émissions de CO2 et la consommation totale d’énergie de bâtiments non destinés à l’habitation pour lesquels elles n’ont pas encore été mesurées."
   ]
  },
  {
   "cell_type": "markdown",
   "id": "2cb844ec",
   "metadata": {},
   "source": [
    "<div class=\"alert alert-info\">\n",
    "           <h1 style=\"font-size:25px;\"><strong>Étape 2. Analysis SiteEnergyUseWN - Notebook </strong></h1>\n",
    "</div>"
   ]
  },
  {
   "cell_type": "markdown",
   "id": "df8cb4d1",
   "metadata": {},
   "source": [
    "## <font color=\"#00afe6\">Sommaire</font>\n",
    "\n",
    "[Imports, Chargemernts et connaisance de données. ](#section_A)                                 \n",
    "[01.Préparation de SiteEnergyUseWN](#section_1)                         \n",
    "[02. Infos sur X et y](#section_2)                    \n",
    "[03. Modélisation](#section_3)               \n",
    "[04. Comparaison des modèles](#section_4)              \n",
    "[05. Vérification des prédictions](#section_5)                  \n",
    "[06. Intérêt du Energy Star Score](#section_6)  \n",
    "[07. Liens importants](#section_7)  "
   ]
  },
  {
   "cell_type": "markdown",
   "id": "de0559aa",
   "metadata": {},
   "source": [
    "<div class=\"alert alert-info\">\n",
    "    <font id=\"section_A\">\n",
    "    <h1 style=\"font-size:25px;\"><strong>Imports, Chargemernts et connaisance de données. </strong></h1>\n",
    "</div>"
   ]
  },
  {
   "cell_type": "code",
   "execution_count": 8,
   "id": "1ca6e077",
   "metadata": {},
   "outputs": [],
   "source": [
    "import numpy as np \n",
    "import pandas as pd\n",
    "import matplotlib as mpl\n",
    "import matplotlib.pyplot as plt\n",
    "import seaborn as sns\n",
    "from datetime import datetime\n",
    "import time\n",
    "import seaborn as sns\n",
    "import sys\n",
    "import IPython as ip\n",
    "import statsmodels as stat\n",
    "import sklearn\n",
    "\n",
    "import datetime\n",
    "import warnings\n",
    "from statsmodels.tools.sm_exceptions import ConvergenceWarning\n",
    "\n",
    "import warnings\n",
    "warnings.filterwarnings('ignore')\n",
    "\n",
    "#Modelisation\n",
    "from sklearn.model_selection import GridSearchCV\n",
    "from sklearn.metrics import mean_squared_error"
   ]
  },
  {
   "cell_type": "code",
   "execution_count": 9,
   "id": "dbded4bf",
   "metadata": {},
   "outputs": [],
   "source": [
    "# Enregistrer le temps de début\n",
    "début = time.time()"
   ]
  },
  {
   "cell_type": "code",
   "execution_count": 10,
   "id": "2c58af4e",
   "metadata": {},
   "outputs": [
    {
     "name": "stdout",
     "output_type": "stream",
     "text": [
      "Requirement already satisfied: xgboost in c:\\users\\oscar\\onedrive\\documents\\datascientist\\lib\\site-packages (1.7.5)\n",
      "Requirement already satisfied: numpy in c:\\users\\oscar\\onedrive\\documents\\datascientist\\lib\\site-packages (from xgboost) (1.23.5)\n",
      "Requirement already satisfied: scipy in c:\\users\\oscar\\onedrive\\documents\\datascientist\\lib\\site-packages (from xgboost) (1.10.1)\n"
     ]
    }
   ],
   "source": [
    "# Install\n",
    "!pip install xgboost"
   ]
  },
  {
   "cell_type": "code",
   "execution_count": 11,
   "id": "72928ee1",
   "metadata": {},
   "outputs": [],
   "source": [
    "pd.set_option('display.max_row', 200)\n",
    "pd.set_option('display.max_column', 70)\n",
    "pd.set_option('display.precision', 5)\n",
    "pd.set_option(\"max_colwidth\", 80) "
   ]
  },
  {
   "cell_type": "code",
   "execution_count": 12,
   "id": "0c155708",
   "metadata": {
    "scrolled": true
   },
   "outputs": [
    {
     "name": "stdout",
     "output_type": "stream",
     "text": [
      "Version des librairies utilisées :\n",
      "Python        : 3.9.16 (main, Mar  8 2023, 10:39:24) [MSC v.1916 64 bit (AMD64)]\n",
      "NumPy         : 1.23.5\n",
      "Pandas        : 1.5.3\n",
      "Matplotlib    : 3.7.1\n",
      "Seaborn       : 0.12.2\n",
      "Sklearn       : 1.2.2\n",
      "Geopandas     : 0.12.2\n",
      "IPython       : 8.12.0\n",
      "statsmodels   : 0.13.5\n",
      "Lancé le      : 2023-05-30T15:50:11.745442\n"
     ]
    }
   ],
   "source": [
    "# Versions\n",
    "print('Version des librairies utilisées :')\n",
    "print('Python        : ' + sys.version)\n",
    "print('NumPy         : ' + np.version.full_version)\n",
    "print('Pandas        : ' + pd.__version__)\n",
    "print('Matplotlib    : ' + mpl.__version__)\n",
    "print('Seaborn       : ' + sns.__version__)\n",
    "print('Sklearn       : ' + sklearn.__version__)\n",
    "print('Geopandas     : ' + sns.__version__)\n",
    "print('IPython       : ' + ip.__version__)\n",
    "print('statsmodels   : ' + stat.__version__)\n",
    "\n",
    "\n",
    "now = datetime.datetime.now().isoformat()\n",
    "print('Lancé le      : ' + now)"
   ]
  },
  {
   "cell_type": "code",
   "execution_count": 13,
   "id": "7f4bed32",
   "metadata": {},
   "outputs": [],
   "source": [
    "datas = pd.read_csv(\"data_cleaned.csv\", low_memory=False)"
   ]
  },
  {
   "cell_type": "code",
   "execution_count": 14,
   "id": "2ca7ab09",
   "metadata": {},
   "outputs": [
    {
     "data": {
      "text/html": [
       "<div>\n",
       "<style scoped>\n",
       "    .dataframe tbody tr th:only-of-type {\n",
       "        vertical-align: middle;\n",
       "    }\n",
       "\n",
       "    .dataframe tbody tr th {\n",
       "        vertical-align: top;\n",
       "    }\n",
       "\n",
       "    .dataframe thead th {\n",
       "        text-align: right;\n",
       "    }\n",
       "</style>\n",
       "<table border=\"1\" class=\"dataframe\">\n",
       "  <thead>\n",
       "    <tr style=\"text-align: right;\">\n",
       "      <th></th>\n",
       "      <th>Index</th>\n",
       "      <th>DataYear</th>\n",
       "      <th>BuildingType</th>\n",
       "      <th>PrimaryPropertyType</th>\n",
       "      <th>CouncilDistrictCode</th>\n",
       "      <th>Neighborhood</th>\n",
       "      <th>YearBuilt</th>\n",
       "      <th>NumberofBuildings</th>\n",
       "      <th>NumberofFloors</th>\n",
       "      <th>PropertyGFATotal</th>\n",
       "      <th>PropertyGFAParking</th>\n",
       "      <th>PropertyGFABuilding(s)</th>\n",
       "      <th>LargestPropertyUseType</th>\n",
       "      <th>LargestPropertyUseTypeGFA</th>\n",
       "      <th>SecondLargestPropertyUseType</th>\n",
       "      <th>SecondLargestPropertyUseTypeGFA</th>\n",
       "      <th>ThirdLargestPropertyUseType</th>\n",
       "      <th>ThirdLargestPropertyUseTypeGFA</th>\n",
       "      <th>ENERGYSTARScore</th>\n",
       "      <th>SiteEnergyUseWN(kBtu)</th>\n",
       "      <th>Outlier</th>\n",
       "      <th>Latitude</th>\n",
       "      <th>Longitude</th>\n",
       "      <th>TotalGHGEmissions</th>\n",
       "      <th>GHGEmissionsIntensity</th>\n",
       "      <th>Log2-SiteEnergyUseWN(kBtu)</th>\n",
       "    </tr>\n",
       "  </thead>\n",
       "  <tbody>\n",
       "    <tr>\n",
       "      <th>1273</th>\n",
       "      <td>3032</td>\n",
       "      <td>2016</td>\n",
       "      <td>NonResidential</td>\n",
       "      <td>Worship Facility</td>\n",
       "      <td>3</td>\n",
       "      <td>EAST</td>\n",
       "      <td>1929</td>\n",
       "      <td>1.0</td>\n",
       "      <td>1.0</td>\n",
       "      <td>37700</td>\n",
       "      <td>0</td>\n",
       "      <td>37700</td>\n",
       "      <td>Worship Facility</td>\n",
       "      <td>52225.0</td>\n",
       "      <td>No Use</td>\n",
       "      <td>0.0</td>\n",
       "      <td>No Use</td>\n",
       "      <td>0.0</td>\n",
       "      <td>38.0</td>\n",
       "      <td>4.19555e+06</td>\n",
       "      <td>Normal</td>\n",
       "      <td>47.63193</td>\n",
       "      <td>-122.32126</td>\n",
       "      <td>150.23</td>\n",
       "      <td>3.98</td>\n",
       "      <td>22.00043</td>\n",
       "    </tr>\n",
       "    <tr>\n",
       "      <th>1077</th>\n",
       "      <td>2293</td>\n",
       "      <td>2016</td>\n",
       "      <td>Nonresidential COS</td>\n",
       "      <td>Warehouse</td>\n",
       "      <td>2</td>\n",
       "      <td>GREATER DUWAMISH</td>\n",
       "      <td>1962</td>\n",
       "      <td>1.0</td>\n",
       "      <td>1.0</td>\n",
       "      <td>45036</td>\n",
       "      <td>0</td>\n",
       "      <td>45036</td>\n",
       "      <td>Non-Refrigerated Warehouse</td>\n",
       "      <td>21110.0</td>\n",
       "      <td>Repair Services (Vehicle, Shoe, Locksmith, etc)</td>\n",
       "      <td>14074.0</td>\n",
       "      <td>Office</td>\n",
       "      <td>6755.0</td>\n",
       "      <td>NaN</td>\n",
       "      <td>1.98979e+06</td>\n",
       "      <td>Normal</td>\n",
       "      <td>47.56522</td>\n",
       "      <td>-122.32205</td>\n",
       "      <td>49.53</td>\n",
       "      <td>1.10</td>\n",
       "      <td>20.92418</td>\n",
       "    </tr>\n",
       "    <tr>\n",
       "      <th>343</th>\n",
       "      <td>478</td>\n",
       "      <td>2016</td>\n",
       "      <td>NonResidential</td>\n",
       "      <td>Retail Store</td>\n",
       "      <td>2</td>\n",
       "      <td>GREATER DUWAMISH</td>\n",
       "      <td>1993</td>\n",
       "      <td>1.0</td>\n",
       "      <td>1.0</td>\n",
       "      <td>107930</td>\n",
       "      <td>0</td>\n",
       "      <td>107930</td>\n",
       "      <td>Retail Store</td>\n",
       "      <td>107704.0</td>\n",
       "      <td>No Use</td>\n",
       "      <td>0.0</td>\n",
       "      <td>No Use</td>\n",
       "      <td>0.0</td>\n",
       "      <td>57.0</td>\n",
       "      <td>7.58935e+06</td>\n",
       "      <td>Normal</td>\n",
       "      <td>47.57842</td>\n",
       "      <td>-122.33558</td>\n",
       "      <td>100.42</td>\n",
       "      <td>0.93</td>\n",
       "      <td>22.85554</td>\n",
       "    </tr>\n",
       "    <tr>\n",
       "      <th>33</th>\n",
       "      <td>43</td>\n",
       "      <td>2016</td>\n",
       "      <td>NonResidential</td>\n",
       "      <td>Hotel</td>\n",
       "      <td>7</td>\n",
       "      <td>DOWNTOWN</td>\n",
       "      <td>1969</td>\n",
       "      <td>1.0</td>\n",
       "      <td>24.0</td>\n",
       "      <td>332210</td>\n",
       "      <td>205970</td>\n",
       "      <td>126240</td>\n",
       "      <td>Hotel</td>\n",
       "      <td>348630.0</td>\n",
       "      <td>No Use</td>\n",
       "      <td>0.0</td>\n",
       "      <td>No Use</td>\n",
       "      <td>0.0</td>\n",
       "      <td>67.0</td>\n",
       "      <td>1.61632e+07</td>\n",
       "      <td>Normal</td>\n",
       "      <td>47.60946</td>\n",
       "      <td>-122.33337</td>\n",
       "      <td>295.33</td>\n",
       "      <td>0.89</td>\n",
       "      <td>23.94621</td>\n",
       "    </tr>\n",
       "    <tr>\n",
       "      <th>189</th>\n",
       "      <td>275</td>\n",
       "      <td>2016</td>\n",
       "      <td>NonResidential</td>\n",
       "      <td>Retail Store</td>\n",
       "      <td>7</td>\n",
       "      <td>DOWNTOWN</td>\n",
       "      <td>1914</td>\n",
       "      <td>1.0</td>\n",
       "      <td>4.0</td>\n",
       "      <td>79957</td>\n",
       "      <td>0</td>\n",
       "      <td>79957</td>\n",
       "      <td>Retail Store</td>\n",
       "      <td>35694.0</td>\n",
       "      <td>Office</td>\n",
       "      <td>29723.0</td>\n",
       "      <td>No Use</td>\n",
       "      <td>0.0</td>\n",
       "      <td>25.0</td>\n",
       "      <td>5.17153e+06</td>\n",
       "      <td>Normal</td>\n",
       "      <td>47.61159</td>\n",
       "      <td>-122.33601</td>\n",
       "      <td>36.61</td>\n",
       "      <td>0.46</td>\n",
       "      <td>22.30216</td>\n",
       "    </tr>\n",
       "  </tbody>\n",
       "</table>\n",
       "</div>"
      ],
      "text/plain": [
       "      Index  DataYear        BuildingType PrimaryPropertyType  \\\n",
       "1273   3032      2016      NonResidential    Worship Facility   \n",
       "1077   2293      2016  Nonresidential COS           Warehouse   \n",
       "343     478      2016      NonResidential        Retail Store   \n",
       "33       43      2016      NonResidential               Hotel   \n",
       "189     275      2016      NonResidential        Retail Store   \n",
       "\n",
       "      CouncilDistrictCode      Neighborhood  YearBuilt  NumberofBuildings  \\\n",
       "1273                    3              EAST       1929                1.0   \n",
       "1077                    2  GREATER DUWAMISH       1962                1.0   \n",
       "343                     2  GREATER DUWAMISH       1993                1.0   \n",
       "33                      7          DOWNTOWN       1969                1.0   \n",
       "189                     7          DOWNTOWN       1914                1.0   \n",
       "\n",
       "      NumberofFloors  PropertyGFATotal  PropertyGFAParking  \\\n",
       "1273             1.0             37700                   0   \n",
       "1077             1.0             45036                   0   \n",
       "343              1.0            107930                   0   \n",
       "33              24.0            332210              205970   \n",
       "189              4.0             79957                   0   \n",
       "\n",
       "      PropertyGFABuilding(s)      LargestPropertyUseType  \\\n",
       "1273                   37700            Worship Facility   \n",
       "1077                   45036  Non-Refrigerated Warehouse   \n",
       "343                   107930                Retail Store   \n",
       "33                    126240                       Hotel   \n",
       "189                    79957                Retail Store   \n",
       "\n",
       "      LargestPropertyUseTypeGFA  \\\n",
       "1273                    52225.0   \n",
       "1077                    21110.0   \n",
       "343                    107704.0   \n",
       "33                     348630.0   \n",
       "189                     35694.0   \n",
       "\n",
       "                         SecondLargestPropertyUseType  \\\n",
       "1273                                           No Use   \n",
       "1077  Repair Services (Vehicle, Shoe, Locksmith, etc)   \n",
       "343                                            No Use   \n",
       "33                                             No Use   \n",
       "189                                            Office   \n",
       "\n",
       "      SecondLargestPropertyUseTypeGFA ThirdLargestPropertyUseType  \\\n",
       "1273                              0.0                      No Use   \n",
       "1077                          14074.0                      Office   \n",
       "343                               0.0                      No Use   \n",
       "33                                0.0                      No Use   \n",
       "189                           29723.0                      No Use   \n",
       "\n",
       "      ThirdLargestPropertyUseTypeGFA  ENERGYSTARScore  SiteEnergyUseWN(kBtu)  \\\n",
       "1273                             0.0             38.0            4.19555e+06   \n",
       "1077                          6755.0              NaN            1.98979e+06   \n",
       "343                              0.0             57.0            7.58935e+06   \n",
       "33                               0.0             67.0            1.61632e+07   \n",
       "189                              0.0             25.0            5.17153e+06   \n",
       "\n",
       "     Outlier  Latitude  Longitude  TotalGHGEmissions  GHGEmissionsIntensity  \\\n",
       "1273  Normal  47.63193 -122.32126             150.23                   3.98   \n",
       "1077  Normal  47.56522 -122.32205              49.53                   1.10   \n",
       "343   Normal  47.57842 -122.33558             100.42                   0.93   \n",
       "33    Normal  47.60946 -122.33337             295.33                   0.89   \n",
       "189   Normal  47.61159 -122.33601              36.61                   0.46   \n",
       "\n",
       "      Log2-SiteEnergyUseWN(kBtu)  \n",
       "1273                    22.00043  \n",
       "1077                    20.92418  \n",
       "343                     22.85554  \n",
       "33                      23.94621  \n",
       "189                     22.30216  "
      ]
     },
     "execution_count": 14,
     "metadata": {},
     "output_type": "execute_result"
    }
   ],
   "source": [
    "datas.sample(5)"
   ]
  },
  {
   "cell_type": "code",
   "execution_count": 15,
   "id": "f21c5fb5",
   "metadata": {},
   "outputs": [
    {
     "name": "stdout",
     "output_type": "stream",
     "text": [
      "Le dataset compte 1370 lignes et 26 variables\n"
     ]
    }
   ],
   "source": [
    "print (\"Le dataset compte {} lignes et {} variables\".format(datas.shape[0], datas.shape[1]))"
   ]
  },
  {
   "cell_type": "code",
   "execution_count": 16,
   "id": "d53320c0",
   "metadata": {
    "scrolled": true
   },
   "outputs": [
    {
     "name": "stdout",
     "output_type": "stream",
     "text": [
      "<class 'pandas.core.frame.DataFrame'>\n",
      "RangeIndex: 1370 entries, 0 to 1369\n",
      "Data columns (total 26 columns):\n",
      " #   Column                           Non-Null Count  Dtype  \n",
      "---  ------                           --------------  -----  \n",
      " 0   Index                            1370 non-null   int64  \n",
      " 1   DataYear                         1370 non-null   int64  \n",
      " 2   BuildingType                     1370 non-null   object \n",
      " 3   PrimaryPropertyType              1370 non-null   object \n",
      " 4   CouncilDistrictCode              1370 non-null   int64  \n",
      " 5   Neighborhood                     1370 non-null   object \n",
      " 6   YearBuilt                        1370 non-null   int64  \n",
      " 7   NumberofBuildings                1370 non-null   float64\n",
      " 8   NumberofFloors                   1370 non-null   float64\n",
      " 9   PropertyGFATotal                 1370 non-null   int64  \n",
      " 10  PropertyGFAParking               1370 non-null   int64  \n",
      " 11  PropertyGFABuilding(s)           1370 non-null   int64  \n",
      " 12  LargestPropertyUseType           1370 non-null   object \n",
      " 13  LargestPropertyUseTypeGFA        1370 non-null   float64\n",
      " 14  SecondLargestPropertyUseType     1370 non-null   object \n",
      " 15  SecondLargestPropertyUseTypeGFA  1370 non-null   float64\n",
      " 16  ThirdLargestPropertyUseType      1370 non-null   object \n",
      " 17  ThirdLargestPropertyUseTypeGFA   1370 non-null   float64\n",
      " 18  ENERGYSTARScore                  875 non-null    float64\n",
      " 19  SiteEnergyUseWN(kBtu)            1370 non-null   float64\n",
      " 20  Outlier                          1370 non-null   object \n",
      " 21  Latitude                         1370 non-null   float64\n",
      " 22  Longitude                        1370 non-null   float64\n",
      " 23  TotalGHGEmissions                1370 non-null   float64\n",
      " 24  GHGEmissionsIntensity            1370 non-null   float64\n",
      " 25  Log2-SiteEnergyUseWN(kBtu)       1370 non-null   float64\n",
      "dtypes: float64(12), int64(7), object(7)\n",
      "memory usage: 278.4+ KB\n"
     ]
    }
   ],
   "source": [
    "datas.info()"
   ]
  },
  {
   "cell_type": "code",
   "execution_count": 17,
   "id": "1225e26b",
   "metadata": {
    "scrolled": false
   },
   "outputs": [
    {
     "data": {
      "text/plain": [
       "Index                                int64\n",
       "DataYear                             int64\n",
       "BuildingType                        object\n",
       "PrimaryPropertyType                 object\n",
       "CouncilDistrictCode                  int64\n",
       "Neighborhood                        object\n",
       "YearBuilt                            int64\n",
       "NumberofBuildings                  float64\n",
       "NumberofFloors                     float64\n",
       "PropertyGFATotal                     int64\n",
       "PropertyGFAParking                   int64\n",
       "PropertyGFABuilding(s)               int64\n",
       "LargestPropertyUseType              object\n",
       "LargestPropertyUseTypeGFA          float64\n",
       "SecondLargestPropertyUseType        object\n",
       "SecondLargestPropertyUseTypeGFA    float64\n",
       "ThirdLargestPropertyUseType         object\n",
       "ThirdLargestPropertyUseTypeGFA     float64\n",
       "ENERGYSTARScore                    float64\n",
       "SiteEnergyUseWN(kBtu)              float64\n",
       "Outlier                             object\n",
       "Latitude                           float64\n",
       "Longitude                          float64\n",
       "TotalGHGEmissions                  float64\n",
       "GHGEmissionsIntensity              float64\n",
       "Log2-SiteEnergyUseWN(kBtu)         float64\n",
       "dtype: object"
      ]
     },
     "execution_count": 17,
     "metadata": {},
     "output_type": "execute_result"
    }
   ],
   "source": [
    "datas.dtypes"
   ]
  },
  {
   "cell_type": "code",
   "execution_count": 18,
   "id": "4ae0bc1c",
   "metadata": {},
   "outputs": [],
   "source": [
    "#sauvegarde séparée du energy star score\n",
    "energy_star_score = datas['ENERGYSTARScore']\n",
    "datas.drop('ENERGYSTARScore', axis=1, inplace=True)"
   ]
  },
  {
   "cell_type": "code",
   "execution_count": 19,
   "id": "dda74233",
   "metadata": {},
   "outputs": [
    {
     "data": {
      "text/plain": [
       "<Axes: >"
      ]
     },
     "execution_count": 19,
     "metadata": {},
     "output_type": "execute_result"
    },
    {
     "data": {
      "image/png": "[encoded data removed]",
      "text/plain": [
       "<Figure size 640x480 with 1 Axes>"
      ]
     },
     "metadata": {},
     "output_type": "display_data"
    }
   ],
   "source": [
    "datas.dtypes.value_counts().plot.pie()"
   ]
  },
  {
   "cell_type": "code",
   "execution_count": 20,
   "id": "a288eb62",
   "metadata": {
    "scrolled": true
   },
   "outputs": [
    {
     "data": {
      "text/plain": [
       "<Axes: >"
      ]
     },
     "execution_count": 20,
     "metadata": {},
     "output_type": "execute_result"
    },
    {
     "data": {
      "image/png": "[encoded data removed]",
      "text/plain": [
       "<Figure size 1800x1000 with 1 Axes>"
      ]
     },
     "metadata": {},
     "output_type": "display_data"
    }
   ],
   "source": [
    "plt.figure(figsize=(18,10))\n",
    "sns.heatmap(datas.isnull(), cbar=False)"
   ]
  },
  {
   "cell_type": "code",
   "execution_count": 21,
   "id": "e2cd2f9d",
   "metadata": {},
   "outputs": [
    {
     "name": "stdout",
     "output_type": "stream",
     "text": [
      "Valeurs manquantes : 0 NaN pour 34250 données (0.0 %)\n"
     ]
    }
   ],
   "source": [
    "#Nombre de valeurs manquantes totales\n",
    "nb_nan_tot     = datas.isna().sum().sum()\n",
    "nb_donnees_tot = np.product(datas.shape)\n",
    "pourc_nan_tot  = round((nb_nan_tot/nb_donnees_tot)*100,2)\n",
    "\n",
    "print(f'Valeurs manquantes : {nb_nan_tot} NaN pour {nb_donnees_tot} données ({pourc_nan_tot} %)')"
   ]
  },
  {
   "cell_type": "markdown",
   "id": "10baee30",
   "metadata": {},
   "source": [
    "<div class=\"alert alert-info\">\n",
    "    <font id=\"section_1\">\n",
    "        <h1 style=\"font-size:25px;\"><strong>01. Préparation de SiteEnergyUseWN</strong></h1>\n",
    "</div>"
   ]
  },
  {
   "cell_type": "markdown",
   "id": "371c5224",
   "metadata": {},
   "source": [
    "### Séparation X et y"
   ]
  },
  {
   "cell_type": "code",
   "execution_count": 22,
   "id": "296421d4",
   "metadata": {},
   "outputs": [],
   "source": [
    "X = datas.copy().drop(['SiteEnergyUseWN(kBtu)'], axis=1)\n",
    "y = datas.copy()[['SiteEnergyUseWN(kBtu)', 'TotalGHGEmissions', 'Log2-SiteEnergyUseWN(kBtu)']]"
   ]
  },
  {
   "cell_type": "code",
   "execution_count": 23,
   "id": "660981ea",
   "metadata": {},
   "outputs": [],
   "source": [
    "from sklearn.model_selection import train_test_split\n",
    "X_train, X_test, y_train, y_test = train_test_split(X, y['SiteEnergyUseWN(kBtu)'], test_size = 0.2, random_state = 42)"
   ]
  },
  {
   "cell_type": "markdown",
   "id": "e1a41896",
   "metadata": {},
   "source": [
    "### Normalisation & One Hot Encoder"
   ]
  },
  {
   "cell_type": "code",
   "execution_count": 24,
   "id": "f442a5f7",
   "metadata": {
    "scrolled": true
   },
   "outputs": [
    {
     "data": {
      "text/plain": [
       "BuildingType                     5\n",
       "PrimaryPropertyType             22\n",
       "Neighborhood                    13\n",
       "LargestPropertyUseType          53\n",
       "SecondLargestPropertyUseType    44\n",
       "ThirdLargestPropertyUseType     28\n",
       "Outlier                          2\n",
       "dtype: int64"
      ]
     },
     "execution_count": 24,
     "metadata": {},
     "output_type": "execute_result"
    }
   ],
   "source": [
    "X.select_dtypes(['category','object']).nunique()"
   ]
  },
  {
   "cell_type": "code",
   "execution_count": 25,
   "id": "0a64c525",
   "metadata": {},
   "outputs": [
    {
     "data": {
      "text/plain": [
       "(1370, 24)"
      ]
     },
     "execution_count": 25,
     "metadata": {},
     "output_type": "execute_result"
    }
   ],
   "source": [
    "X.shape"
   ]
  },
  {
   "cell_type": "code",
   "execution_count": 26,
   "id": "7a39677f",
   "metadata": {},
   "outputs": [],
   "source": [
    "categorical_columns = X.select_dtypes(['category','object']).columns\n",
    "numerical_columns = X.select_dtypes(['int32','float64']).columns"
   ]
  },
  {
   "cell_type": "code",
   "execution_count": 27,
   "id": "91bce657",
   "metadata": {
    "scrolled": false
   },
   "outputs": [
    {
     "data": {
      "text/plain": [
       "Index(['BuildingType', 'PrimaryPropertyType', 'Neighborhood',\n",
       "       'LargestPropertyUseType', 'SecondLargestPropertyUseType',\n",
       "       'ThirdLargestPropertyUseType', 'Outlier'],\n",
       "      dtype='object')"
      ]
     },
     "execution_count": 27,
     "metadata": {},
     "output_type": "execute_result"
    }
   ],
   "source": [
    "categorical_columns"
   ]
  },
  {
   "cell_type": "code",
   "execution_count": 28,
   "id": "9887953d",
   "metadata": {
    "scrolled": true
   },
   "outputs": [],
   "source": [
    "from sklearn.preprocessing import OneHotEncoder, StandardScaler\n",
    "\n",
    "ohe = OneHotEncoder(sparse=False)\n",
    "ss = StandardScaler()\n",
    "\n",
    "# Mise à l'échelle des caractéristiques numériques\n",
    "X[numerical_columns] = ss.fit_transform(X[numerical_columns])\n",
    "\n",
    "# Application du OneHotEncoder aux caractéristiques catégorielles\n",
    "ohe_features = ohe.fit_transform(X[categorical_columns])\n",
    "\n",
    "# Obtention des noms des caractéristiques générées par le OneHotEncoder\n",
    "ohe_feature_names = ohe.get_feature_names_out(input_features=categorical_columns)\n",
    "\n",
    "# Création d'un nouveau DataFrame en combinant les caractéristiques numériques mises à l'échelle et les caractéristiques catégorielles encodées\n",
    "X_encoded = pd.DataFrame(data=ohe_features, columns=ohe_feature_names)\n",
    "X = pd.concat([X[numerical_columns], X_encoded], axis=1)\n"
   ]
  },
  {
   "cell_type": "markdown",
   "id": "268fcd70",
   "metadata": {},
   "source": [
    "Transformation des types des catégories sorties du one hot encoding"
   ]
  },
  {
   "cell_type": "code",
   "execution_count": 29,
   "id": "2910aa81",
   "metadata": {},
   "outputs": [],
   "source": [
    "import re\n",
    "regex = re.compile(r'x\\d_')\n",
    "for column in X.columns:\n",
    "    if regex.search(column):\n",
    "        X[column] = X[column].astype('int32')"
   ]
  },
  {
   "cell_type": "code",
   "execution_count": 30,
   "id": "e20eb8a0",
   "metadata": {
    "scrolled": true
   },
   "outputs": [
    {
     "data": {
      "text/html": [
       "<div>\n",
       "<style scoped>\n",
       "    .dataframe tbody tr th:only-of-type {\n",
       "        vertical-align: middle;\n",
       "    }\n",
       "\n",
       "    .dataframe tbody tr th {\n",
       "        vertical-align: top;\n",
       "    }\n",
       "\n",
       "    .dataframe thead th {\n",
       "        text-align: right;\n",
       "    }\n",
       "</style>\n",
       "<table border=\"1\" class=\"dataframe\">\n",
       "  <thead>\n",
       "    <tr style=\"text-align: right;\">\n",
       "      <th></th>\n",
       "      <th>NumberofBuildings</th>\n",
       "      <th>NumberofFloors</th>\n",
       "      <th>LargestPropertyUseTypeGFA</th>\n",
       "      <th>SecondLargestPropertyUseTypeGFA</th>\n",
       "      <th>ThirdLargestPropertyUseTypeGFA</th>\n",
       "      <th>Latitude</th>\n",
       "      <th>Longitude</th>\n",
       "      <th>TotalGHGEmissions</th>\n",
       "      <th>GHGEmissionsIntensity</th>\n",
       "      <th>Log2-SiteEnergyUseWN(kBtu)</th>\n",
       "      <th>BuildingType_Campus</th>\n",
       "      <th>BuildingType_NonResidential</th>\n",
       "      <th>BuildingType_Nonresidential COS</th>\n",
       "      <th>BuildingType_Nonresidential WA</th>\n",
       "      <th>BuildingType_SPS-District K-12</th>\n",
       "      <th>PrimaryPropertyType_Distribution Center</th>\n",
       "      <th>PrimaryPropertyType_Hospital</th>\n",
       "      <th>PrimaryPropertyType_Hotel</th>\n",
       "      <th>PrimaryPropertyType_K-12 School</th>\n",
       "      <th>PrimaryPropertyType_Laboratory</th>\n",
       "      <th>PrimaryPropertyType_Large Office</th>\n",
       "      <th>PrimaryPropertyType_Low-Rise Multifamily</th>\n",
       "      <th>PrimaryPropertyType_Medical Office</th>\n",
       "      <th>PrimaryPropertyType_Mixed Use Property</th>\n",
       "      <th>PrimaryPropertyType_Office</th>\n",
       "      <th>PrimaryPropertyType_Other</th>\n",
       "      <th>PrimaryPropertyType_Refrigerated Warehouse</th>\n",
       "      <th>PrimaryPropertyType_Residence Hall</th>\n",
       "      <th>PrimaryPropertyType_Restaurant</th>\n",
       "      <th>PrimaryPropertyType_Retail Store</th>\n",
       "      <th>PrimaryPropertyType_Self-Storage Facility</th>\n",
       "      <th>PrimaryPropertyType_Senior Care Community</th>\n",
       "      <th>PrimaryPropertyType_Small- and Mid-Sized Office</th>\n",
       "      <th>PrimaryPropertyType_Supermarket / Grocery Store</th>\n",
       "      <th>PrimaryPropertyType_University</th>\n",
       "      <th>...</th>\n",
       "      <th>SecondLargestPropertyUseType_Social/Meeting Hall</th>\n",
       "      <th>SecondLargestPropertyUseType_Supermarket/Grocery Store</th>\n",
       "      <th>SecondLargestPropertyUseType_Swimming Pool</th>\n",
       "      <th>SecondLargestPropertyUseType_Vocational School</th>\n",
       "      <th>SecondLargestPropertyUseType_Worship Facility</th>\n",
       "      <th>ThirdLargestPropertyUseType_Bank Branch</th>\n",
       "      <th>ThirdLargestPropertyUseType_Data Center</th>\n",
       "      <th>ThirdLargestPropertyUseType_Distribution Center</th>\n",
       "      <th>ThirdLargestPropertyUseType_Fast Food Restaurant</th>\n",
       "      <th>ThirdLargestPropertyUseType_Financial Office</th>\n",
       "      <th>ThirdLargestPropertyUseType_Food Service</th>\n",
       "      <th>ThirdLargestPropertyUseType_K-12 School</th>\n",
       "      <th>ThirdLargestPropertyUseType_Laboratory</th>\n",
       "      <th>ThirdLargestPropertyUseType_Medical Office</th>\n",
       "      <th>ThirdLargestPropertyUseType_Multifamily Housing</th>\n",
       "      <th>ThirdLargestPropertyUseType_No Use</th>\n",
       "      <th>ThirdLargestPropertyUseType_Non-Refrigerated Warehouse</th>\n",
       "      <th>ThirdLargestPropertyUseType_Office</th>\n",
       "      <th>ThirdLargestPropertyUseType_Other</th>\n",
       "      <th>ThirdLargestPropertyUseType_Other - Education</th>\n",
       "      <th>ThirdLargestPropertyUseType_Other - Entertainment/Public Assembly</th>\n",
       "      <th>ThirdLargestPropertyUseType_Other - Restaurant/Bar</th>\n",
       "      <th>ThirdLargestPropertyUseType_Parking</th>\n",
       "      <th>ThirdLargestPropertyUseType_Pre-school/Daycare</th>\n",
       "      <th>ThirdLargestPropertyUseType_Refrigerated Warehouse</th>\n",
       "      <th>ThirdLargestPropertyUseType_Restaurant</th>\n",
       "      <th>ThirdLargestPropertyUseType_Retail Store</th>\n",
       "      <th>ThirdLargestPropertyUseType_Self-Storage Facility</th>\n",
       "      <th>ThirdLargestPropertyUseType_Social/Meeting Hall</th>\n",
       "      <th>ThirdLargestPropertyUseType_Strip Mall</th>\n",
       "      <th>ThirdLargestPropertyUseType_Supermarket/Grocery Store</th>\n",
       "      <th>ThirdLargestPropertyUseType_Swimming Pool</th>\n",
       "      <th>ThirdLargestPropertyUseType_Vocational School</th>\n",
       "      <th>Outlier_Low Outlier</th>\n",
       "      <th>Outlier_Normal</th>\n",
       "    </tr>\n",
       "  </thead>\n",
       "  <tbody>\n",
       "    <tr>\n",
       "      <th>1213</th>\n",
       "      <td>-0.14505</td>\n",
       "      <td>-0.05506</td>\n",
       "      <td>-0.54067</td>\n",
       "      <td>-0.20202</td>\n",
       "      <td>0.12828</td>\n",
       "      <td>-0.29245</td>\n",
       "      <td>0.90438</td>\n",
       "      <td>0.12761</td>\n",
       "      <td>2.14995</td>\n",
       "      <td>0.15800</td>\n",
       "      <td>0.0</td>\n",
       "      <td>0.0</td>\n",
       "      <td>1.0</td>\n",
       "      <td>0.0</td>\n",
       "      <td>0.0</td>\n",
       "      <td>0.0</td>\n",
       "      <td>0.0</td>\n",
       "      <td>0.0</td>\n",
       "      <td>0.0</td>\n",
       "      <td>0.0</td>\n",
       "      <td>0.0</td>\n",
       "      <td>0.0</td>\n",
       "      <td>0.0</td>\n",
       "      <td>0.0</td>\n",
       "      <td>0.0</td>\n",
       "      <td>1.0</td>\n",
       "      <td>0.0</td>\n",
       "      <td>0.0</td>\n",
       "      <td>0.0</td>\n",
       "      <td>0.0</td>\n",
       "      <td>0.0</td>\n",
       "      <td>0.0</td>\n",
       "      <td>0.0</td>\n",
       "      <td>0.0</td>\n",
       "      <td>0.0</td>\n",
       "      <td>...</td>\n",
       "      <td>1.0</td>\n",
       "      <td>0.0</td>\n",
       "      <td>0.0</td>\n",
       "      <td>0.0</td>\n",
       "      <td>0.0</td>\n",
       "      <td>0.0</td>\n",
       "      <td>0.0</td>\n",
       "      <td>0.0</td>\n",
       "      <td>0.0</td>\n",
       "      <td>0.0</td>\n",
       "      <td>0.0</td>\n",
       "      <td>0.0</td>\n",
       "      <td>0.0</td>\n",
       "      <td>0.0</td>\n",
       "      <td>0.0</td>\n",
       "      <td>0.0</td>\n",
       "      <td>0.0</td>\n",
       "      <td>0.0</td>\n",
       "      <td>0.0</td>\n",
       "      <td>1.0</td>\n",
       "      <td>0.0</td>\n",
       "      <td>0.0</td>\n",
       "      <td>0.0</td>\n",
       "      <td>0.0</td>\n",
       "      <td>0.0</td>\n",
       "      <td>0.0</td>\n",
       "      <td>0.0</td>\n",
       "      <td>0.0</td>\n",
       "      <td>0.0</td>\n",
       "      <td>0.0</td>\n",
       "      <td>0.0</td>\n",
       "      <td>0.0</td>\n",
       "      <td>0.0</td>\n",
       "      <td>0.0</td>\n",
       "      <td>1.0</td>\n",
       "    </tr>\n",
       "    <tr>\n",
       "      <th>443</th>\n",
       "      <td>-0.14505</td>\n",
       "      <td>0.17012</td>\n",
       "      <td>-0.51649</td>\n",
       "      <td>0.30148</td>\n",
       "      <td>3.13193</td>\n",
       "      <td>-0.22673</td>\n",
       "      <td>0.51170</td>\n",
       "      <td>-0.58000</td>\n",
       "      <td>-0.69574</td>\n",
       "      <td>0.13217</td>\n",
       "      <td>0.0</td>\n",
       "      <td>1.0</td>\n",
       "      <td>0.0</td>\n",
       "      <td>0.0</td>\n",
       "      <td>0.0</td>\n",
       "      <td>0.0</td>\n",
       "      <td>0.0</td>\n",
       "      <td>0.0</td>\n",
       "      <td>0.0</td>\n",
       "      <td>0.0</td>\n",
       "      <td>0.0</td>\n",
       "      <td>0.0</td>\n",
       "      <td>0.0</td>\n",
       "      <td>1.0</td>\n",
       "      <td>0.0</td>\n",
       "      <td>0.0</td>\n",
       "      <td>0.0</td>\n",
       "      <td>0.0</td>\n",
       "      <td>0.0</td>\n",
       "      <td>0.0</td>\n",
       "      <td>0.0</td>\n",
       "      <td>0.0</td>\n",
       "      <td>0.0</td>\n",
       "      <td>0.0</td>\n",
       "      <td>0.0</td>\n",
       "      <td>...</td>\n",
       "      <td>0.0</td>\n",
       "      <td>0.0</td>\n",
       "      <td>0.0</td>\n",
       "      <td>0.0</td>\n",
       "      <td>0.0</td>\n",
       "      <td>0.0</td>\n",
       "      <td>0.0</td>\n",
       "      <td>0.0</td>\n",
       "      <td>0.0</td>\n",
       "      <td>0.0</td>\n",
       "      <td>0.0</td>\n",
       "      <td>0.0</td>\n",
       "      <td>0.0</td>\n",
       "      <td>0.0</td>\n",
       "      <td>0.0</td>\n",
       "      <td>0.0</td>\n",
       "      <td>0.0</td>\n",
       "      <td>0.0</td>\n",
       "      <td>0.0</td>\n",
       "      <td>0.0</td>\n",
       "      <td>0.0</td>\n",
       "      <td>0.0</td>\n",
       "      <td>1.0</td>\n",
       "      <td>0.0</td>\n",
       "      <td>0.0</td>\n",
       "      <td>0.0</td>\n",
       "      <td>0.0</td>\n",
       "      <td>0.0</td>\n",
       "      <td>0.0</td>\n",
       "      <td>0.0</td>\n",
       "      <td>0.0</td>\n",
       "      <td>0.0</td>\n",
       "      <td>0.0</td>\n",
       "      <td>0.0</td>\n",
       "      <td>1.0</td>\n",
       "    </tr>\n",
       "    <tr>\n",
       "      <th>285</th>\n",
       "      <td>-0.14505</td>\n",
       "      <td>0.17012</td>\n",
       "      <td>-0.19637</td>\n",
       "      <td>0.51998</td>\n",
       "      <td>0.36528</td>\n",
       "      <td>0.50726</td>\n",
       "      <td>0.26514</td>\n",
       "      <td>-0.47035</td>\n",
       "      <td>-0.61736</td>\n",
       "      <td>0.43673</td>\n",
       "      <td>0.0</td>\n",
       "      <td>1.0</td>\n",
       "      <td>0.0</td>\n",
       "      <td>0.0</td>\n",
       "      <td>0.0</td>\n",
       "      <td>0.0</td>\n",
       "      <td>0.0</td>\n",
       "      <td>0.0</td>\n",
       "      <td>0.0</td>\n",
       "      <td>0.0</td>\n",
       "      <td>0.0</td>\n",
       "      <td>0.0</td>\n",
       "      <td>0.0</td>\n",
       "      <td>0.0</td>\n",
       "      <td>0.0</td>\n",
       "      <td>0.0</td>\n",
       "      <td>0.0</td>\n",
       "      <td>0.0</td>\n",
       "      <td>0.0</td>\n",
       "      <td>0.0</td>\n",
       "      <td>0.0</td>\n",
       "      <td>0.0</td>\n",
       "      <td>1.0</td>\n",
       "      <td>0.0</td>\n",
       "      <td>0.0</td>\n",
       "      <td>...</td>\n",
       "      <td>0.0</td>\n",
       "      <td>0.0</td>\n",
       "      <td>0.0</td>\n",
       "      <td>0.0</td>\n",
       "      <td>0.0</td>\n",
       "      <td>0.0</td>\n",
       "      <td>1.0</td>\n",
       "      <td>0.0</td>\n",
       "      <td>0.0</td>\n",
       "      <td>0.0</td>\n",
       "      <td>0.0</td>\n",
       "      <td>0.0</td>\n",
       "      <td>0.0</td>\n",
       "      <td>0.0</td>\n",
       "      <td>0.0</td>\n",
       "      <td>0.0</td>\n",
       "      <td>0.0</td>\n",
       "      <td>0.0</td>\n",
       "      <td>0.0</td>\n",
       "      <td>0.0</td>\n",
       "      <td>0.0</td>\n",
       "      <td>0.0</td>\n",
       "      <td>0.0</td>\n",
       "      <td>0.0</td>\n",
       "      <td>0.0</td>\n",
       "      <td>0.0</td>\n",
       "      <td>0.0</td>\n",
       "      <td>0.0</td>\n",
       "      <td>0.0</td>\n",
       "      <td>0.0</td>\n",
       "      <td>0.0</td>\n",
       "      <td>0.0</td>\n",
       "      <td>0.0</td>\n",
       "      <td>0.0</td>\n",
       "      <td>1.0</td>\n",
       "    </tr>\n",
       "    <tr>\n",
       "      <th>829</th>\n",
       "      <td>-0.14505</td>\n",
       "      <td>-0.05506</td>\n",
       "      <td>-0.48371</td>\n",
       "      <td>-0.36179</td>\n",
       "      <td>-0.19785</td>\n",
       "      <td>1.86721</td>\n",
       "      <td>0.41560</td>\n",
       "      <td>-0.47397</td>\n",
       "      <td>-0.15916</td>\n",
       "      <td>-0.17389</td>\n",
       "      <td>0.0</td>\n",
       "      <td>1.0</td>\n",
       "      <td>0.0</td>\n",
       "      <td>0.0</td>\n",
       "      <td>0.0</td>\n",
       "      <td>0.0</td>\n",
       "      <td>0.0</td>\n",
       "      <td>0.0</td>\n",
       "      <td>0.0</td>\n",
       "      <td>0.0</td>\n",
       "      <td>0.0</td>\n",
       "      <td>0.0</td>\n",
       "      <td>1.0</td>\n",
       "      <td>0.0</td>\n",
       "      <td>0.0</td>\n",
       "      <td>0.0</td>\n",
       "      <td>0.0</td>\n",
       "      <td>0.0</td>\n",
       "      <td>0.0</td>\n",
       "      <td>0.0</td>\n",
       "      <td>0.0</td>\n",
       "      <td>0.0</td>\n",
       "      <td>0.0</td>\n",
       "      <td>0.0</td>\n",
       "      <td>0.0</td>\n",
       "      <td>...</td>\n",
       "      <td>0.0</td>\n",
       "      <td>0.0</td>\n",
       "      <td>0.0</td>\n",
       "      <td>0.0</td>\n",
       "      <td>0.0</td>\n",
       "      <td>0.0</td>\n",
       "      <td>0.0</td>\n",
       "      <td>0.0</td>\n",
       "      <td>0.0</td>\n",
       "      <td>0.0</td>\n",
       "      <td>0.0</td>\n",
       "      <td>0.0</td>\n",
       "      <td>0.0</td>\n",
       "      <td>0.0</td>\n",
       "      <td>0.0</td>\n",
       "      <td>1.0</td>\n",
       "      <td>0.0</td>\n",
       "      <td>0.0</td>\n",
       "      <td>0.0</td>\n",
       "      <td>0.0</td>\n",
       "      <td>0.0</td>\n",
       "      <td>0.0</td>\n",
       "      <td>0.0</td>\n",
       "      <td>0.0</td>\n",
       "      <td>0.0</td>\n",
       "      <td>0.0</td>\n",
       "      <td>0.0</td>\n",
       "      <td>0.0</td>\n",
       "      <td>0.0</td>\n",
       "      <td>0.0</td>\n",
       "      <td>0.0</td>\n",
       "      <td>0.0</td>\n",
       "      <td>0.0</td>\n",
       "      <td>0.0</td>\n",
       "      <td>1.0</td>\n",
       "    </tr>\n",
       "    <tr>\n",
       "      <th>1109</th>\n",
       "      <td>-0.14505</td>\n",
       "      <td>-0.50544</td>\n",
       "      <td>-0.25325</td>\n",
       "      <td>-0.36179</td>\n",
       "      <td>-0.19785</td>\n",
       "      <td>0.92924</td>\n",
       "      <td>0.55858</td>\n",
       "      <td>-0.58161</td>\n",
       "      <td>-0.58721</td>\n",
       "      <td>-0.13061</td>\n",
       "      <td>0.0</td>\n",
       "      <td>1.0</td>\n",
       "      <td>0.0</td>\n",
       "      <td>0.0</td>\n",
       "      <td>0.0</td>\n",
       "      <td>0.0</td>\n",
       "      <td>0.0</td>\n",
       "      <td>0.0</td>\n",
       "      <td>0.0</td>\n",
       "      <td>0.0</td>\n",
       "      <td>0.0</td>\n",
       "      <td>0.0</td>\n",
       "      <td>0.0</td>\n",
       "      <td>0.0</td>\n",
       "      <td>0.0</td>\n",
       "      <td>0.0</td>\n",
       "      <td>0.0</td>\n",
       "      <td>0.0</td>\n",
       "      <td>0.0</td>\n",
       "      <td>1.0</td>\n",
       "      <td>0.0</td>\n",
       "      <td>0.0</td>\n",
       "      <td>0.0</td>\n",
       "      <td>0.0</td>\n",
       "      <td>0.0</td>\n",
       "      <td>...</td>\n",
       "      <td>0.0</td>\n",
       "      <td>0.0</td>\n",
       "      <td>0.0</td>\n",
       "      <td>0.0</td>\n",
       "      <td>0.0</td>\n",
       "      <td>0.0</td>\n",
       "      <td>0.0</td>\n",
       "      <td>0.0</td>\n",
       "      <td>0.0</td>\n",
       "      <td>0.0</td>\n",
       "      <td>0.0</td>\n",
       "      <td>0.0</td>\n",
       "      <td>0.0</td>\n",
       "      <td>0.0</td>\n",
       "      <td>0.0</td>\n",
       "      <td>1.0</td>\n",
       "      <td>0.0</td>\n",
       "      <td>0.0</td>\n",
       "      <td>0.0</td>\n",
       "      <td>0.0</td>\n",
       "      <td>0.0</td>\n",
       "      <td>0.0</td>\n",
       "      <td>0.0</td>\n",
       "      <td>0.0</td>\n",
       "      <td>0.0</td>\n",
       "      <td>0.0</td>\n",
       "      <td>0.0</td>\n",
       "      <td>0.0</td>\n",
       "      <td>0.0</td>\n",
       "      <td>0.0</td>\n",
       "      <td>0.0</td>\n",
       "      <td>0.0</td>\n",
       "      <td>0.0</td>\n",
       "      <td>0.0</td>\n",
       "      <td>1.0</td>\n",
       "    </tr>\n",
       "  </tbody>\n",
       "</table>\n",
       "<p>5 rows × 177 columns</p>\n",
       "</div>"
      ],
      "text/plain": [
       "      NumberofBuildings  NumberofFloors  LargestPropertyUseTypeGFA  \\\n",
       "1213           -0.14505        -0.05506                   -0.54067   \n",
       "443            -0.14505         0.17012                   -0.51649   \n",
       "285            -0.14505         0.17012                   -0.19637   \n",
       "829            -0.14505        -0.05506                   -0.48371   \n",
       "1109           -0.14505        -0.50544                   -0.25325   \n",
       "\n",
       "      SecondLargestPropertyUseTypeGFA  ThirdLargestPropertyUseTypeGFA  \\\n",
       "1213                         -0.20202                         0.12828   \n",
       "443                           0.30148                         3.13193   \n",
       "285                           0.51998                         0.36528   \n",
       "829                          -0.36179                        -0.19785   \n",
       "1109                         -0.36179                        -0.19785   \n",
       "\n",
       "      Latitude  Longitude  TotalGHGEmissions  GHGEmissionsIntensity  \\\n",
       "1213  -0.29245    0.90438            0.12761                2.14995   \n",
       "443   -0.22673    0.51170           -0.58000               -0.69574   \n",
       "285    0.50726    0.26514           -0.47035               -0.61736   \n",
       "829    1.86721    0.41560           -0.47397               -0.15916   \n",
       "1109   0.92924    0.55858           -0.58161               -0.58721   \n",
       "\n",
       "      Log2-SiteEnergyUseWN(kBtu)  BuildingType_Campus  \\\n",
       "1213                     0.15800                  0.0   \n",
       "443                      0.13217                  0.0   \n",
       "285                      0.43673                  0.0   \n",
       "829                     -0.17389                  0.0   \n",
       "1109                    -0.13061                  0.0   \n",
       "\n",
       "      BuildingType_NonResidential  BuildingType_Nonresidential COS  \\\n",
       "1213                          0.0                              1.0   \n",
       "443                           1.0                              0.0   \n",
       "285                           1.0                              0.0   \n",
       "829                           1.0                              0.0   \n",
       "1109                          1.0                              0.0   \n",
       "\n",
       "      BuildingType_Nonresidential WA  BuildingType_SPS-District K-12  \\\n",
       "1213                             0.0                             0.0   \n",
       "443                              0.0                             0.0   \n",
       "285                              0.0                             0.0   \n",
       "829                              0.0                             0.0   \n",
       "1109                             0.0                             0.0   \n",
       "\n",
       "      PrimaryPropertyType_Distribution Center  PrimaryPropertyType_Hospital  \\\n",
       "1213                                      0.0                           0.0   \n",
       "443                                       0.0                           0.0   \n",
       "285                                       0.0                           0.0   \n",
       "829                                       0.0                           0.0   \n",
       "1109                                      0.0                           0.0   \n",
       "\n",
       "      PrimaryPropertyType_Hotel  PrimaryPropertyType_K-12 School  \\\n",
       "1213                        0.0                              0.0   \n",
       "443                         0.0                              0.0   \n",
       "285                         0.0                              0.0   \n",
       "829                         0.0                              0.0   \n",
       "1109                        0.0                              0.0   \n",
       "\n",
       "      PrimaryPropertyType_Laboratory  PrimaryPropertyType_Large Office  \\\n",
       "1213                             0.0                               0.0   \n",
       "443                              0.0                               0.0   \n",
       "285                              0.0                               0.0   \n",
       "829                              0.0                               0.0   \n",
       "1109                             0.0                               0.0   \n",
       "\n",
       "      PrimaryPropertyType_Low-Rise Multifamily  \\\n",
       "1213                                       0.0   \n",
       "443                                        0.0   \n",
       "285                                        0.0   \n",
       "829                                        0.0   \n",
       "1109                                       0.0   \n",
       "\n",
       "      PrimaryPropertyType_Medical Office  \\\n",
       "1213                                 0.0   \n",
       "443                                  0.0   \n",
       "285                                  0.0   \n",
       "829                                  1.0   \n",
       "1109                                 0.0   \n",
       "\n",
       "      PrimaryPropertyType_Mixed Use Property  PrimaryPropertyType_Office  \\\n",
       "1213                                     0.0                         0.0   \n",
       "443                                      1.0                         0.0   \n",
       "285                                      0.0                         0.0   \n",
       "829                                      0.0                         0.0   \n",
       "1109                                     0.0                         0.0   \n",
       "\n",
       "      PrimaryPropertyType_Other  PrimaryPropertyType_Refrigerated Warehouse  \\\n",
       "1213                        1.0                                         0.0   \n",
       "443                         0.0                                         0.0   \n",
       "285                         0.0                                         0.0   \n",
       "829                         0.0                                         0.0   \n",
       "1109                        0.0                                         0.0   \n",
       "\n",
       "      PrimaryPropertyType_Residence Hall  PrimaryPropertyType_Restaurant  \\\n",
       "1213                                 0.0                             0.0   \n",
       "443                                  0.0                             0.0   \n",
       "285                                  0.0                             0.0   \n",
       "829                                  0.0                             0.0   \n",
       "1109                                 0.0                             0.0   \n",
       "\n",
       "      PrimaryPropertyType_Retail Store  \\\n",
       "1213                               0.0   \n",
       "443                                0.0   \n",
       "285                                0.0   \n",
       "829                                0.0   \n",
       "1109                               1.0   \n",
       "\n",
       "      PrimaryPropertyType_Self-Storage Facility  \\\n",
       "1213                                        0.0   \n",
       "443                                         0.0   \n",
       "285                                         0.0   \n",
       "829                                         0.0   \n",
       "1109                                        0.0   \n",
       "\n",
       "      PrimaryPropertyType_Senior Care Community  \\\n",
       "1213                                        0.0   \n",
       "443                                         0.0   \n",
       "285                                         0.0   \n",
       "829                                         0.0   \n",
       "1109                                        0.0   \n",
       "\n",
       "      PrimaryPropertyType_Small- and Mid-Sized Office  \\\n",
       "1213                                              0.0   \n",
       "443                                               0.0   \n",
       "285                                               1.0   \n",
       "829                                               0.0   \n",
       "1109                                              0.0   \n",
       "\n",
       "      PrimaryPropertyType_Supermarket / Grocery Store  \\\n",
       "1213                                              0.0   \n",
       "443                                               0.0   \n",
       "285                                               0.0   \n",
       "829                                               0.0   \n",
       "1109                                              0.0   \n",
       "\n",
       "      PrimaryPropertyType_University  ...  \\\n",
       "1213                             0.0  ...   \n",
       "443                              0.0  ...   \n",
       "285                              0.0  ...   \n",
       "829                              0.0  ...   \n",
       "1109                             0.0  ...   \n",
       "\n",
       "      SecondLargestPropertyUseType_Social/Meeting Hall  \\\n",
       "1213                                               1.0   \n",
       "443                                                0.0   \n",
       "285                                                0.0   \n",
       "829                                                0.0   \n",
       "1109                                               0.0   \n",
       "\n",
       "      SecondLargestPropertyUseType_Supermarket/Grocery Store  \\\n",
       "1213                                                     0.0   \n",
       "443                                                      0.0   \n",
       "285                                                      0.0   \n",
       "829                                                      0.0   \n",
       "1109                                                     0.0   \n",
       "\n",
       "      SecondLargestPropertyUseType_Swimming Pool  \\\n",
       "1213                                         0.0   \n",
       "443                                          0.0   \n",
       "285                                          0.0   \n",
       "829                                          0.0   \n",
       "1109                                         0.0   \n",
       "\n",
       "      SecondLargestPropertyUseType_Vocational School  \\\n",
       "1213                                             0.0   \n",
       "443                                              0.0   \n",
       "285                                              0.0   \n",
       "829                                              0.0   \n",
       "1109                                             0.0   \n",
       "\n",
       "      SecondLargestPropertyUseType_Worship Facility  \\\n",
       "1213                                            0.0   \n",
       "443                                             0.0   \n",
       "285                                             0.0   \n",
       "829                                             0.0   \n",
       "1109                                            0.0   \n",
       "\n",
       "      ThirdLargestPropertyUseType_Bank Branch  \\\n",
       "1213                                      0.0   \n",
       "443                                       0.0   \n",
       "285                                       0.0   \n",
       "829                                       0.0   \n",
       "1109                                      0.0   \n",
       "\n",
       "      ThirdLargestPropertyUseType_Data Center  \\\n",
       "1213                                      0.0   \n",
       "443                                       0.0   \n",
       "285                                       1.0   \n",
       "829                                       0.0   \n",
       "1109                                      0.0   \n",
       "\n",
       "      ThirdLargestPropertyUseType_Distribution Center  \\\n",
       "1213                                              0.0   \n",
       "443                                               0.0   \n",
       "285                                               0.0   \n",
       "829                                               0.0   \n",
       "1109                                              0.0   \n",
       "\n",
       "      ThirdLargestPropertyUseType_Fast Food Restaurant  \\\n",
       "1213                                               0.0   \n",
       "443                                                0.0   \n",
       "285                                                0.0   \n",
       "829                                                0.0   \n",
       "1109                                               0.0   \n",
       "\n",
       "      ThirdLargestPropertyUseType_Financial Office  \\\n",
       "1213                                           0.0   \n",
       "443                                            0.0   \n",
       "285                                            0.0   \n",
       "829                                            0.0   \n",
       "1109                                           0.0   \n",
       "\n",
       "      ThirdLargestPropertyUseType_Food Service  \\\n",
       "1213                                       0.0   \n",
       "443                                        0.0   \n",
       "285                                        0.0   \n",
       "829                                        0.0   \n",
       "1109                                       0.0   \n",
       "\n",
       "      ThirdLargestPropertyUseType_K-12 School  \\\n",
       "1213                                      0.0   \n",
       "443                                       0.0   \n",
       "285                                       0.0   \n",
       "829                                       0.0   \n",
       "1109                                      0.0   \n",
       "\n",
       "      ThirdLargestPropertyUseType_Laboratory  \\\n",
       "1213                                     0.0   \n",
       "443                                      0.0   \n",
       "285                                      0.0   \n",
       "829                                      0.0   \n",
       "1109                                     0.0   \n",
       "\n",
       "      ThirdLargestPropertyUseType_Medical Office  \\\n",
       "1213                                         0.0   \n",
       "443                                          0.0   \n",
       "285                                          0.0   \n",
       "829                                          0.0   \n",
       "1109                                         0.0   \n",
       "\n",
       "      ThirdLargestPropertyUseType_Multifamily Housing  \\\n",
       "1213                                              0.0   \n",
       "443                                               0.0   \n",
       "285                                               0.0   \n",
       "829                                               0.0   \n",
       "1109                                              0.0   \n",
       "\n",
       "      ThirdLargestPropertyUseType_No Use  \\\n",
       "1213                                 0.0   \n",
       "443                                  0.0   \n",
       "285                                  0.0   \n",
       "829                                  1.0   \n",
       "1109                                 1.0   \n",
       "\n",
       "      ThirdLargestPropertyUseType_Non-Refrigerated Warehouse  \\\n",
       "1213                                                     0.0   \n",
       "443                                                      0.0   \n",
       "285                                                      0.0   \n",
       "829                                                      0.0   \n",
       "1109                                                     0.0   \n",
       "\n",
       "      ThirdLargestPropertyUseType_Office  ThirdLargestPropertyUseType_Other  \\\n",
       "1213                                 0.0                                0.0   \n",
       "443                                  0.0                                0.0   \n",
       "285                                  0.0                                0.0   \n",
       "829                                  0.0                                0.0   \n",
       "1109                                 0.0                                0.0   \n",
       "\n",
       "      ThirdLargestPropertyUseType_Other - Education  \\\n",
       "1213                                            1.0   \n",
       "443                                             0.0   \n",
       "285                                             0.0   \n",
       "829                                             0.0   \n",
       "1109                                            0.0   \n",
       "\n",
       "      ThirdLargestPropertyUseType_Other - Entertainment/Public Assembly  \\\n",
       "1213                                                                0.0   \n",
       "443                                                                 0.0   \n",
       "285                                                                 0.0   \n",
       "829                                                                 0.0   \n",
       "1109                                                                0.0   \n",
       "\n",
       "      ThirdLargestPropertyUseType_Other - Restaurant/Bar  \\\n",
       "1213                                                 0.0   \n",
       "443                                                  0.0   \n",
       "285                                                  0.0   \n",
       "829                                                  0.0   \n",
       "1109                                                 0.0   \n",
       "\n",
       "      ThirdLargestPropertyUseType_Parking  \\\n",
       "1213                                  0.0   \n",
       "443                                   1.0   \n",
       "285                                   0.0   \n",
       "829                                   0.0   \n",
       "1109                                  0.0   \n",
       "\n",
       "      ThirdLargestPropertyUseType_Pre-school/Daycare  \\\n",
       "1213                                             0.0   \n",
       "443                                              0.0   \n",
       "285                                              0.0   \n",
       "829                                              0.0   \n",
       "1109                                             0.0   \n",
       "\n",
       "      ThirdLargestPropertyUseType_Refrigerated Warehouse  \\\n",
       "1213                                                 0.0   \n",
       "443                                                  0.0   \n",
       "285                                                  0.0   \n",
       "829                                                  0.0   \n",
       "1109                                                 0.0   \n",
       "\n",
       "      ThirdLargestPropertyUseType_Restaurant  \\\n",
       "1213                                     0.0   \n",
       "443                                      0.0   \n",
       "285                                      0.0   \n",
       "829                                      0.0   \n",
       "1109                                     0.0   \n",
       "\n",
       "      ThirdLargestPropertyUseType_Retail Store  \\\n",
       "1213                                       0.0   \n",
       "443                                        0.0   \n",
       "285                                        0.0   \n",
       "829                                        0.0   \n",
       "1109                                       0.0   \n",
       "\n",
       "      ThirdLargestPropertyUseType_Self-Storage Facility  \\\n",
       "1213                                                0.0   \n",
       "443                                                 0.0   \n",
       "285                                                 0.0   \n",
       "829                                                 0.0   \n",
       "1109                                                0.0   \n",
       "\n",
       "      ThirdLargestPropertyUseType_Social/Meeting Hall  \\\n",
       "1213                                              0.0   \n",
       "443                                               0.0   \n",
       "285                                               0.0   \n",
       "829                                               0.0   \n",
       "1109                                              0.0   \n",
       "\n",
       "      ThirdLargestPropertyUseType_Strip Mall  \\\n",
       "1213                                     0.0   \n",
       "443                                      0.0   \n",
       "285                                      0.0   \n",
       "829                                      0.0   \n",
       "1109                                     0.0   \n",
       "\n",
       "      ThirdLargestPropertyUseType_Supermarket/Grocery Store  \\\n",
       "1213                                                    0.0   \n",
       "443                                                     0.0   \n",
       "285                                                     0.0   \n",
       "829                                                     0.0   \n",
       "1109                                                    0.0   \n",
       "\n",
       "      ThirdLargestPropertyUseType_Swimming Pool  \\\n",
       "1213                                        0.0   \n",
       "443                                         0.0   \n",
       "285                                         0.0   \n",
       "829                                         0.0   \n",
       "1109                                        0.0   \n",
       "\n",
       "      ThirdLargestPropertyUseType_Vocational School  Outlier_Low Outlier  \\\n",
       "1213                                            0.0                  0.0   \n",
       "443                                             0.0                  0.0   \n",
       "285                                             0.0                  0.0   \n",
       "829                                             0.0                  0.0   \n",
       "1109                                            0.0                  0.0   \n",
       "\n",
       "      Outlier_Normal  \n",
       "1213             1.0  \n",
       "443              1.0  \n",
       "285              1.0  \n",
       "829              1.0  \n",
       "1109             1.0  \n",
       "\n",
       "[5 rows x 177 columns]"
      ]
     },
     "execution_count": 30,
     "metadata": {},
     "output_type": "execute_result"
    }
   ],
   "source": [
    "X.sample(5)"
   ]
  },
  {
   "cell_type": "markdown",
   "id": "53928af1",
   "metadata": {},
   "source": [
    "<div class=\"alert alert-info\">\n",
    "    <font id=\"section_2\">\n",
    "        <h1 style=\"font-size:25px;\"><strong>02. Infos sur X et y</strong></h1>\n",
    "</div>"
   ]
  },
  {
   "cell_type": "code",
   "execution_count": 31,
   "id": "7487c41e",
   "metadata": {},
   "outputs": [
    {
     "data": {
      "text/plain": [
       "(1370, 177)"
      ]
     },
     "execution_count": 31,
     "metadata": {},
     "output_type": "execute_result"
    }
   ],
   "source": [
    "X.shape"
   ]
  },
  {
   "cell_type": "code",
   "execution_count": 32,
   "id": "0dbf1d11",
   "metadata": {},
   "outputs": [
    {
     "data": {
      "text/plain": [
       "(1370, 3)"
      ]
     },
     "execution_count": 32,
     "metadata": {},
     "output_type": "execute_result"
    }
   ],
   "source": [
    "y.shape"
   ]
  },
  {
   "cell_type": "markdown",
   "id": "f1ba6fe6",
   "metadata": {},
   "source": [
    "### Séparation jeu de données                                                \n",
    "\n",
    "**Séparation test / train**"
   ]
  },
  {
   "cell_type": "code",
   "execution_count": 33,
   "id": "b226324c",
   "metadata": {},
   "outputs": [],
   "source": [
    "from sklearn.model_selection import train_test_split\n",
    "X_train, X_test, y_train, y_test = train_test_split(X, y['Log2-SiteEnergyUseWN(kBtu)'], test_size = 0.2, random_state = 42 )"
   ]
  },
  {
   "cell_type": "code",
   "execution_count": 34,
   "id": "709a6e32",
   "metadata": {},
   "outputs": [
    {
     "data": {
      "text/plain": [
       "(1096, 177)"
      ]
     },
     "execution_count": 34,
     "metadata": {},
     "output_type": "execute_result"
    }
   ],
   "source": [
    "X_train.shape"
   ]
  },
  {
   "cell_type": "code",
   "execution_count": 35,
   "id": "418cca35",
   "metadata": {},
   "outputs": [
    {
     "data": {
      "text/plain": [
       "(274, 177)"
      ]
     },
     "execution_count": 35,
     "metadata": {},
     "output_type": "execute_result"
    }
   ],
   "source": [
    "X_test.shape"
   ]
  },
  {
   "cell_type": "code",
   "execution_count": 36,
   "id": "6fc22b6c",
   "metadata": {},
   "outputs": [
    {
     "data": {
      "text/plain": [
       "(1096,)"
      ]
     },
     "execution_count": 36,
     "metadata": {},
     "output_type": "execute_result"
    }
   ],
   "source": [
    "y_train.shape"
   ]
  },
  {
   "cell_type": "code",
   "execution_count": 37,
   "id": "a43881ac",
   "metadata": {},
   "outputs": [
    {
     "data": {
      "text/plain": [
       "(274,)"
      ]
     },
     "execution_count": 37,
     "metadata": {},
     "output_type": "execute_result"
    }
   ],
   "source": [
    "y_test.shape"
   ]
  },
  {
   "cell_type": "code",
   "execution_count": 38,
   "id": "f41fb582",
   "metadata": {},
   "outputs": [],
   "source": [
    "results = pd.DataFrame({})"
   ]
  },
  {
   "cell_type": "code",
   "execution_count": 39,
   "id": "b26e7187",
   "metadata": {},
   "outputs": [
    {
     "name": "stdout",
     "output_type": "stream",
     "text": [
      "0\n",
      "0\n",
      "0\n",
      "0\n"
     ]
    }
   ],
   "source": [
    "print(X_train.isna().sum().sum())\n",
    "print(X_test.isna().sum().sum())\n",
    "print(y_train.isna().sum().sum())\n",
    "print(y_test.isna().sum().sum())"
   ]
  },
  {
   "cell_type": "markdown",
   "id": "657e2714",
   "metadata": {},
   "source": [
    "<div class=\"alert alert-info\">\n",
    "    <font id=\"section_3\">\n",
    "        <h1 style=\"font-size:25px;\"><strong>03. Modélisation</strong></h1>\n",
    "</div>"
   ]
  },
  {
   "cell_type": "code",
   "execution_count": 40,
   "id": "ca59dceb",
   "metadata": {},
   "outputs": [],
   "source": [
    "from sklearn.model_selection import GridSearchCV\n",
    "from sklearn.metrics import mean_squared_error"
   ]
  },
  {
   "cell_type": "markdown",
   "id": "b9f8910c",
   "metadata": {},
   "source": [
    "## Linear Regression / Ridge Regression / Lasso / Elastic Net"
   ]
  },
  {
   "cell_type": "markdown",
   "id": "093ac486",
   "metadata": {},
   "source": [
    "Le modèle Elastic Net comprend les modèles linéaires / ridge et lasso via les valeurs des coefficients dans le grid search CV"
   ]
  },
  {
   "cell_type": "code",
   "execution_count": 41,
   "id": "3f52153b",
   "metadata": {
    "scrolled": false
   },
   "outputs": [
    {
     "data": {
      "text/html": [
       "<style>#sk-container-id-1 {color: black;background-color: white;}#sk-container-id-1 pre{padding: 0;}#sk-container-id-1 div.sk-toggleable {background-color: white;}#sk-container-id-1 label.sk-toggleable__label {cursor: pointer;display: block;width: 100%;margin-bottom: 0;padding: 0.3em;box-sizing: border-box;text-align: center;}#sk-container-id-1 label.sk-toggleable__label-arrow:before {content: \"▸\";float: left;margin-right: 0.25em;color: #696969;}#sk-container-id-1 label.sk-toggleable__label-arrow:hover:before {color: black;}#sk-container-id-1 div.sk-estimator:hover label.sk-toggleable__label-arrow:before {color: black;}#sk-container-id-1 div.sk-toggleable__content {max-height: 0;max-width: 0;overflow: hidden;text-align: left;background-color: #f0f8ff;}#sk-container-id-1 div.sk-toggleable__content pre {margin: 0.2em;color: black;border-radius: 0.25em;background-color: #f0f8ff;}#sk-container-id-1 input.sk-toggleable__control:checked~div.sk-toggleable__content {max-height: 200px;max-width: 100%;overflow: auto;}#sk-container-id-1 input.sk-toggleable__control:checked~label.sk-toggleable__label-arrow:before {content: \"▾\";}#sk-container-id-1 div.sk-estimator input.sk-toggleable__control:checked~label.sk-toggleable__label {background-color: #d4ebff;}#sk-container-id-1 div.sk-label input.sk-toggleable__control:checked~label.sk-toggleable__label {background-color: #d4ebff;}#sk-container-id-1 input.sk-hidden--visually {border: 0;clip: rect(1px 1px 1px 1px);clip: rect(1px, 1px, 1px, 1px);height: 1px;margin: -1px;overflow: hidden;padding: 0;position: absolute;width: 1px;}#sk-container-id-1 div.sk-estimator {font-family: monospace;background-color: #f0f8ff;border: 1px dotted black;border-radius: 0.25em;box-sizing: border-box;margin-bottom: 0.5em;}#sk-container-id-1 div.sk-estimator:hover {background-color: #d4ebff;}#sk-container-id-1 div.sk-parallel-item::after {content: \"\";width: 100%;border-bottom: 1px solid gray;flex-grow: 1;}#sk-container-id-1 div.sk-label:hover label.sk-toggleable__label {background-color: #d4ebff;}#sk-container-id-1 div.sk-serial::before {content: \"\";position: absolute;border-left: 1px solid gray;box-sizing: border-box;top: 0;bottom: 0;left: 50%;z-index: 0;}#sk-container-id-1 div.sk-serial {display: flex;flex-direction: column;align-items: center;background-color: white;padding-right: 0.2em;padding-left: 0.2em;position: relative;}#sk-container-id-1 div.sk-item {position: relative;z-index: 1;}#sk-container-id-1 div.sk-parallel {display: flex;align-items: stretch;justify-content: center;background-color: white;position: relative;}#sk-container-id-1 div.sk-item::before, #sk-container-id-1 div.sk-parallel-item::before {content: \"\";position: absolute;border-left: 1px solid gray;box-sizing: border-box;top: 0;bottom: 0;left: 50%;z-index: -1;}#sk-container-id-1 div.sk-parallel-item {display: flex;flex-direction: column;z-index: 1;position: relative;background-color: white;}#sk-container-id-1 div.sk-parallel-item:first-child::after {align-self: flex-end;width: 50%;}#sk-container-id-1 div.sk-parallel-item:last-child::after {align-self: flex-start;width: 50%;}#sk-container-id-1 div.sk-parallel-item:only-child::after {width: 0;}#sk-container-id-1 div.sk-dashed-wrapped {border: 1px dashed gray;margin: 0 0.4em 0.5em 0.4em;box-sizing: border-box;padding-bottom: 0.4em;background-color: white;}#sk-container-id-1 div.sk-label label {font-family: monospace;font-weight: bold;display: inline-block;line-height: 1.2em;}#sk-container-id-1 div.sk-label-container {text-align: center;}#sk-container-id-1 div.sk-container {/* jupyter's `normalize.less` sets `[hidden] { display: none; }` but bootstrap.min.css set `[hidden] { display: none !important; }` so we also need the `!important` here to be able to override the default hidden behavior on the sphinx rendered scikit-learn.org. See: https://github.com/scikit-learn/scikit-learn/issues/21755 */display: inline-block !important;position: relative;}#sk-container-id-1 div.sk-text-repr-fallback {display: none;}</style><div id=\"sk-container-id-1\" class=\"sk-top-container\"><div class=\"sk-text-repr-fallback\"><pre>GridSearchCV(cv=5, estimator=ElasticNet(),\n",
       "             param_grid={&#x27;alpha&#x27;: [0.0001, 0.001, 0.01, 0.1, 1, 10, 100],\n",
       "                         &#x27;l1_ratio&#x27;: array([0. , 0.1, 0.2, 0.3, 0.4, 0.5, 0.6, 0.7, 0.8, 0.9]),\n",
       "                         &#x27;tol&#x27;: [0.1, 0.01, 0.001, 0.0001]},\n",
       "             scoring=&#x27;neg_mean_squared_error&#x27;)</pre><b>In a Jupyter environment, please rerun this cell to show the HTML representation or trust the notebook. <br />On GitHub, the HTML representation is unable to render, please try loading this page with nbviewer.org.</b></div><div class=\"sk-container\" hidden><div class=\"sk-item sk-dashed-wrapped\"><div class=\"sk-label-container\"><div class=\"sk-label sk-toggleable\"><input class=\"sk-toggleable__control sk-hidden--visually\" id=\"sk-estimator-id-1\" type=\"checkbox\" ><label for=\"sk-estimator-id-1\" class=\"sk-toggleable__label sk-toggleable__label-arrow\">GridSearchCV</label><div class=\"sk-toggleable__content\"><pre>GridSearchCV(cv=5, estimator=ElasticNet(),\n",
       "             param_grid={&#x27;alpha&#x27;: [0.0001, 0.001, 0.01, 0.1, 1, 10, 100],\n",
       "                         &#x27;l1_ratio&#x27;: array([0. , 0.1, 0.2, 0.3, 0.4, 0.5, 0.6, 0.7, 0.8, 0.9]),\n",
       "                         &#x27;tol&#x27;: [0.1, 0.01, 0.001, 0.0001]},\n",
       "             scoring=&#x27;neg_mean_squared_error&#x27;)</pre></div></div></div><div class=\"sk-parallel\"><div class=\"sk-parallel-item\"><div class=\"sk-item\"><div class=\"sk-label-container\"><div class=\"sk-label sk-toggleable\"><input class=\"sk-toggleable__control sk-hidden--visually\" id=\"sk-estimator-id-2\" type=\"checkbox\" ><label for=\"sk-estimator-id-2\" class=\"sk-toggleable__label sk-toggleable__label-arrow\">estimator: ElasticNet</label><div class=\"sk-toggleable__content\"><pre>ElasticNet()</pre></div></div></div><div class=\"sk-serial\"><div class=\"sk-item\"><div class=\"sk-estimator sk-toggleable\"><input class=\"sk-toggleable__control sk-hidden--visually\" id=\"sk-estimator-id-3\" type=\"checkbox\" ><label for=\"sk-estimator-id-3\" class=\"sk-toggleable__label sk-toggleable__label-arrow\">ElasticNet</label><div class=\"sk-toggleable__content\"><pre>ElasticNet()</pre></div></div></div></div></div></div></div></div></div></div>"
      ],
      "text/plain": [
       "GridSearchCV(cv=5, estimator=ElasticNet(),\n",
       "             param_grid={'alpha': [0.0001, 0.001, 0.01, 0.1, 1, 10, 100],\n",
       "                         'l1_ratio': array([0. , 0.1, 0.2, 0.3, 0.4, 0.5, 0.6, 0.7, 0.8, 0.9]),\n",
       "                         'tol': [0.1, 0.01, 0.001, 0.0001]},\n",
       "             scoring='neg_mean_squared_error')"
      ]
     },
     "execution_count": 41,
     "metadata": {},
     "output_type": "execute_result"
    }
   ],
   "source": [
    "from sklearn.linear_model import ElasticNet\n",
    "\n",
    "#rappel de la fonction de coût du elasticnet\n",
    "#1 / (2 * n_samples) * ||y - Xw||^2_2 + alpha * l1_ratio * ||w||_1 + 0.5 * alpha * (1 - l1_ratio) * ||w||^2_2\n",
    "ElasticNet(max_iter=10000)\n",
    "\n",
    "parameters = {'tol' : [0.1,0.01,0.001,0.0001],\n",
    "              \"alpha\": [0.0001, 0.001, 0.01, 0.1, 1, 10, 100],  #alpha, coef qui multiplie le terme de pénalité)\n",
    "              \"l1_ratio\": np.arange(0.0, 1.0, 0.1)}#L1 ratio , =1 équivaut à un Lasso, 0 à un Ridge\n",
    "\n",
    "\n",
    "elastic_grid = GridSearchCV(estimator = ElasticNet(), \n",
    "                      param_grid = parameters,\n",
    "                      scoring = 'neg_mean_squared_error',\n",
    "                      cv=5,\n",
    "                      verbose=0\n",
    "                     )\n",
    "\n",
    "elastic_grid.fit(X_train, y_train)"
   ]
  },
  {
   "cell_type": "code",
   "execution_count": 42,
   "id": "4d1cebcf",
   "metadata": {
    "scrolled": true
   },
   "outputs": [
    {
     "data": {
      "text/plain": [
       "{'alpha': 0.0001, 'l1_ratio': 0.9, 'tol': 0.0001}"
      ]
     },
     "execution_count": 42,
     "metadata": {},
     "output_type": "execute_result"
    }
   ],
   "source": [
    "elastic_grid.best_params_"
   ]
  },
  {
   "cell_type": "markdown",
   "id": "570515fa",
   "metadata": {},
   "source": [
    "Le modèle optimal a les caractéristiques suivantes:\n",
    "\n",
    "Le résultat `elastic_grid.best_params_` affiche les meilleurs paramètres trouvés par la recherche en grille (`GridSearchCV`) pour le modèle ElasticNet. Cela signifie qu'après avoir testé différentes combinaisons de valeurs des paramètres dans la grille spécifiée, il a été déterminé que les meilleurs paramètres pour cet ensemble de données sont :\n",
    "\n",
    "- `alpha` : 0.0001\n",
    "- `l1_ratio` : 0.9\n",
    "- `tol` : 0.0001\n",
    "\n",
    "Ces valeurs sont celles qui ont produit les meilleures performances en termes de la métrique de score utilisée, qui dans ce cas est l'erreur quadratique moyenne négative (`neg_mean_squared_error`)."
   ]
  },
  {
   "cell_type": "code",
   "execution_count": 43,
   "id": "7cb6ca78",
   "metadata": {},
   "outputs": [],
   "source": [
    "import math\n",
    "results = results.append(pd.DataFrame({\n",
    "    'Modèle' : ['Elasticnet Regression'],\n",
    "    'Score_RMSE' : [math.sqrt(mean_squared_error(elastic_grid.predict(X_test), y_test))]}),\n",
    "              ignore_index=True)"
   ]
  },
  {
   "cell_type": "markdown",
   "id": "968c4f31",
   "metadata": {},
   "source": [
    "## Random Forest Regressor"
   ]
  },
  {
   "cell_type": "code",
   "execution_count": 44,
   "id": "845c30f8",
   "metadata": {},
   "outputs": [],
   "source": [
    "from sklearn.ensemble import RandomForestRegressor\n",
    "\n",
    "parameters = {\n",
    "    'n_estimators' : [10,50,100,300,500], #nombre d'arbres de décision\n",
    "    'min_samples_leaf' : [1,3,5,10], #nombre de feuilles minimales dans un noeud\n",
    "    'max_features': ['auto', 'sqrt'] #nombre de features observées pour chaque arbre\n",
    "}"
   ]
  },
  {
   "cell_type": "code",
   "execution_count": 45,
   "id": "9bb30e11",
   "metadata": {},
   "outputs": [
    {
     "name": "stdout",
     "output_type": "stream",
     "text": [
      "Fitting 5 folds for each of 40 candidates, totalling 200 fits\n",
      "[CV] END max_features=auto, min_samples_leaf=1, n_estimators=10; total time=   0.0s\n",
      "[CV] END max_features=auto, min_samples_leaf=1, n_estimators=10; total time=   0.0s\n",
      "[CV] END max_features=auto, min_samples_leaf=1, n_estimators=10; total time=   0.0s\n",
      "[CV] END max_features=auto, min_samples_leaf=1, n_estimators=10; total time=   0.0s\n",
      "[CV] END max_features=auto, min_samples_leaf=1, n_estimators=10; total time=   0.0s\n",
      "[CV] END max_features=auto, min_samples_leaf=1, n_estimators=50; total time=   0.4s\n",
      "[CV] END max_features=auto, min_samples_leaf=1, n_estimators=50; total time=   0.3s\n",
      "[CV] END max_features=auto, min_samples_leaf=1, n_estimators=50; total time=   0.4s\n",
      "[CV] END max_features=auto, min_samples_leaf=1, n_estimators=50; total time=   0.4s\n",
      "[CV] END max_features=auto, min_samples_leaf=1, n_estimators=50; total time=   0.4s\n",
      "[CV] END max_features=auto, min_samples_leaf=1, n_estimators=100; total time=   0.8s\n",
      "[CV] END max_features=auto, min_samples_leaf=1, n_estimators=100; total time=   0.8s\n",
      "[CV] END max_features=auto, min_samples_leaf=1, n_estimators=100; total time=   0.9s\n",
      "[CV] END max_features=auto, min_samples_leaf=1, n_estimators=100; total time=   0.9s\n",
      "[CV] END max_features=auto, min_samples_leaf=1, n_estimators=100; total time=   0.8s\n",
      "[CV] END max_features=auto, min_samples_leaf=1, n_estimators=300; total time=   2.6s\n",
      "[CV] END max_features=auto, min_samples_leaf=1, n_estimators=300; total time=   2.7s\n",
      "[CV] END max_features=auto, min_samples_leaf=1, n_estimators=300; total time=   2.6s\n",
      "[CV] END max_features=auto, min_samples_leaf=1, n_estimators=300; total time=   2.6s\n",
      "[CV] END max_features=auto, min_samples_leaf=1, n_estimators=300; total time=   2.7s\n",
      "[CV] END max_features=auto, min_samples_leaf=1, n_estimators=500; total time=   4.6s\n",
      "[CV] END max_features=auto, min_samples_leaf=1, n_estimators=500; total time=   4.6s\n",
      "[CV] END max_features=auto, min_samples_leaf=1, n_estimators=500; total time=   4.7s\n",
      "[CV] END max_features=auto, min_samples_leaf=1, n_estimators=500; total time=   4.9s\n",
      "[CV] END max_features=auto, min_samples_leaf=1, n_estimators=500; total time=   4.6s\n",
      "[CV] END max_features=auto, min_samples_leaf=3, n_estimators=10; total time=   0.0s\n",
      "[CV] END max_features=auto, min_samples_leaf=3, n_estimators=10; total time=   0.0s\n",
      "[CV] END max_features=auto, min_samples_leaf=3, n_estimators=10; total time=   0.0s\n",
      "[CV] END max_features=auto, min_samples_leaf=3, n_estimators=10; total time=   0.0s\n",
      "[CV] END max_features=auto, min_samples_leaf=3, n_estimators=10; total time=   0.0s\n",
      "[CV] END max_features=auto, min_samples_leaf=3, n_estimators=50; total time=   0.2s\n",
      "[CV] END max_features=auto, min_samples_leaf=3, n_estimators=50; total time=   0.2s\n",
      "[CV] END max_features=auto, min_samples_leaf=3, n_estimators=50; total time=   0.2s\n",
      "[CV] END max_features=auto, min_samples_leaf=3, n_estimators=50; total time=   0.3s\n",
      "[CV] END max_features=auto, min_samples_leaf=3, n_estimators=50; total time=   0.2s\n",
      "[CV] END max_features=auto, min_samples_leaf=3, n_estimators=100; total time=   0.5s\n",
      "[CV] END max_features=auto, min_samples_leaf=3, n_estimators=100; total time=   0.6s\n",
      "[CV] END max_features=auto, min_samples_leaf=3, n_estimators=100; total time=   0.6s\n",
      "[CV] END max_features=auto, min_samples_leaf=3, n_estimators=100; total time=   0.5s\n",
      "[CV] END max_features=auto, min_samples_leaf=3, n_estimators=100; total time=   0.6s\n",
      "[CV] END max_features=auto, min_samples_leaf=3, n_estimators=300; total time=   2.0s\n",
      "[CV] END max_features=auto, min_samples_leaf=3, n_estimators=300; total time=   2.0s\n",
      "[CV] END max_features=auto, min_samples_leaf=3, n_estimators=300; total time=   1.9s\n",
      "[CV] END max_features=auto, min_samples_leaf=3, n_estimators=300; total time=   1.9s\n",
      "[CV] END max_features=auto, min_samples_leaf=3, n_estimators=300; total time=   1.9s\n",
      "[CV] END max_features=auto, min_samples_leaf=3, n_estimators=500; total time=   3.2s\n",
      "[CV] END max_features=auto, min_samples_leaf=3, n_estimators=500; total time=   3.3s\n",
      "[CV] END max_features=auto, min_samples_leaf=3, n_estimators=500; total time=   3.3s\n",
      "[CV] END max_features=auto, min_samples_leaf=3, n_estimators=500; total time=   3.3s\n",
      "[CV] END max_features=auto, min_samples_leaf=3, n_estimators=500; total time=   3.1s\n",
      "[CV] END max_features=auto, min_samples_leaf=5, n_estimators=10; total time=   0.0s\n",
      "[CV] END max_features=auto, min_samples_leaf=5, n_estimators=10; total time=   0.0s\n",
      "[CV] END max_features=auto, min_samples_leaf=5, n_estimators=10; total time=   0.0s\n",
      "[CV] END max_features=auto, min_samples_leaf=5, n_estimators=10; total time=   0.0s\n",
      "[CV] END max_features=auto, min_samples_leaf=5, n_estimators=10; total time=   0.0s\n",
      "[CV] END max_features=auto, min_samples_leaf=5, n_estimators=50; total time=   0.2s\n",
      "[CV] END max_features=auto, min_samples_leaf=5, n_estimators=50; total time=   0.2s\n",
      "[CV] END max_features=auto, min_samples_leaf=5, n_estimators=50; total time=   0.2s\n",
      "[CV] END max_features=auto, min_samples_leaf=5, n_estimators=50; total time=   0.2s\n",
      "[CV] END max_features=auto, min_samples_leaf=5, n_estimators=50; total time=   0.2s\n",
      "[CV] END max_features=auto, min_samples_leaf=5, n_estimators=100; total time=   0.5s\n",
      "[CV] END max_features=auto, min_samples_leaf=5, n_estimators=100; total time=   0.5s\n",
      "[CV] END max_features=auto, min_samples_leaf=5, n_estimators=100; total time=   0.5s\n",
      "[CV] END max_features=auto, min_samples_leaf=5, n_estimators=100; total time=   0.5s\n",
      "[CV] END max_features=auto, min_samples_leaf=5, n_estimators=100; total time=   0.5s\n",
      "[CV] END max_features=auto, min_samples_leaf=5, n_estimators=300; total time=   1.7s\n",
      "[CV] END max_features=auto, min_samples_leaf=5, n_estimators=300; total time=   1.8s\n",
      "[CV] END max_features=auto, min_samples_leaf=5, n_estimators=300; total time=   1.7s\n",
      "[CV] END max_features=auto, min_samples_leaf=5, n_estimators=300; total time=   1.7s\n",
      "[CV] END max_features=auto, min_samples_leaf=5, n_estimators=300; total time=   1.7s\n",
      "[CV] END max_features=auto, min_samples_leaf=5, n_estimators=500; total time=   2.7s\n",
      "[CV] END max_features=auto, min_samples_leaf=5, n_estimators=500; total time=   2.8s\n",
      "[CV] END max_features=auto, min_samples_leaf=5, n_estimators=500; total time=   2.8s\n",
      "[CV] END max_features=auto, min_samples_leaf=5, n_estimators=500; total time=   3.1s\n",
      "[CV] END max_features=auto, min_samples_leaf=5, n_estimators=500; total time=   2.9s\n",
      "[CV] END max_features=auto, min_samples_leaf=10, n_estimators=10; total time=   0.0s\n",
      "[CV] END max_features=auto, min_samples_leaf=10, n_estimators=10; total time=   0.0s\n",
      "[CV] END max_features=auto, min_samples_leaf=10, n_estimators=10; total time=   0.0s\n",
      "[CV] END max_features=auto, min_samples_leaf=10, n_estimators=10; total time=   0.0s\n",
      "[CV] END max_features=auto, min_samples_leaf=10, n_estimators=10; total time=   0.0s\n",
      "[CV] END max_features=auto, min_samples_leaf=10, n_estimators=50; total time=   0.2s\n",
      "[CV] END max_features=auto, min_samples_leaf=10, n_estimators=50; total time=   0.1s\n",
      "[CV] END max_features=auto, min_samples_leaf=10, n_estimators=50; total time=   0.1s\n",
      "[CV] END max_features=auto, min_samples_leaf=10, n_estimators=50; total time=   0.1s\n",
      "[CV] END max_features=auto, min_samples_leaf=10, n_estimators=50; total time=   0.2s\n",
      "[CV] END max_features=auto, min_samples_leaf=10, n_estimators=100; total time=   0.4s\n",
      "[CV] END max_features=auto, min_samples_leaf=10, n_estimators=100; total time=   0.4s\n",
      "[CV] END max_features=auto, min_samples_leaf=10, n_estimators=100; total time=   0.4s\n",
      "[CV] END max_features=auto, min_samples_leaf=10, n_estimators=100; total time=   0.4s\n",
      "[CV] END max_features=auto, min_samples_leaf=10, n_estimators=100; total time=   0.4s\n",
      "[CV] END max_features=auto, min_samples_leaf=10, n_estimators=300; total time=   1.4s\n",
      "[CV] END max_features=auto, min_samples_leaf=10, n_estimators=300; total time=   1.4s\n",
      "[CV] END max_features=auto, min_samples_leaf=10, n_estimators=300; total time=   1.4s\n",
      "[CV] END max_features=auto, min_samples_leaf=10, n_estimators=300; total time=   1.4s\n",
      "[CV] END max_features=auto, min_samples_leaf=10, n_estimators=300; total time=   1.5s\n",
      "[CV] END max_features=auto, min_samples_leaf=10, n_estimators=500; total time=   2.6s\n"
     ]
    },
    {
     "name": "stdout",
     "output_type": "stream",
     "text": [
      "[CV] END max_features=auto, min_samples_leaf=10, n_estimators=500; total time=   2.4s\n",
      "[CV] END max_features=auto, min_samples_leaf=10, n_estimators=500; total time=   2.3s\n",
      "[CV] END max_features=auto, min_samples_leaf=10, n_estimators=500; total time=   2.3s\n",
      "[CV] END max_features=auto, min_samples_leaf=10, n_estimators=500; total time=   2.4s\n",
      "[CV] END max_features=sqrt, min_samples_leaf=1, n_estimators=10; total time=   0.0s\n",
      "[CV] END max_features=sqrt, min_samples_leaf=1, n_estimators=10; total time=   0.0s\n",
      "[CV] END max_features=sqrt, min_samples_leaf=1, n_estimators=10; total time=   0.0s\n",
      "[CV] END max_features=sqrt, min_samples_leaf=1, n_estimators=10; total time=   0.0s\n",
      "[CV] END max_features=sqrt, min_samples_leaf=1, n_estimators=10; total time=   0.0s\n",
      "[CV] END max_features=sqrt, min_samples_leaf=1, n_estimators=50; total time=   0.0s\n",
      "[CV] END max_features=sqrt, min_samples_leaf=1, n_estimators=50; total time=   0.0s\n",
      "[CV] END max_features=sqrt, min_samples_leaf=1, n_estimators=50; total time=   0.0s\n",
      "[CV] END max_features=sqrt, min_samples_leaf=1, n_estimators=50; total time=   0.0s\n",
      "[CV] END max_features=sqrt, min_samples_leaf=1, n_estimators=50; total time=   0.0s\n",
      "[CV] END max_features=sqrt, min_samples_leaf=1, n_estimators=100; total time=   0.2s\n",
      "[CV] END max_features=sqrt, min_samples_leaf=1, n_estimators=100; total time=   0.2s\n",
      "[CV] END max_features=sqrt, min_samples_leaf=1, n_estimators=100; total time=   0.2s\n",
      "[CV] END max_features=sqrt, min_samples_leaf=1, n_estimators=100; total time=   0.2s\n",
      "[CV] END max_features=sqrt, min_samples_leaf=1, n_estimators=100; total time=   0.2s\n",
      "[CV] END max_features=sqrt, min_samples_leaf=1, n_estimators=300; total time=   0.9s\n",
      "[CV] END max_features=sqrt, min_samples_leaf=1, n_estimators=300; total time=   0.9s\n",
      "[CV] END max_features=sqrt, min_samples_leaf=1, n_estimators=300; total time=   0.9s\n",
      "[CV] END max_features=sqrt, min_samples_leaf=1, n_estimators=300; total time=   0.7s\n",
      "[CV] END max_features=sqrt, min_samples_leaf=1, n_estimators=300; total time=   0.8s\n",
      "[CV] END max_features=sqrt, min_samples_leaf=1, n_estimators=500; total time=   1.4s\n",
      "[CV] END max_features=sqrt, min_samples_leaf=1, n_estimators=500; total time=   1.2s\n",
      "[CV] END max_features=sqrt, min_samples_leaf=1, n_estimators=500; total time=   1.2s\n",
      "[CV] END max_features=sqrt, min_samples_leaf=1, n_estimators=500; total time=   1.4s\n",
      "[CV] END max_features=sqrt, min_samples_leaf=1, n_estimators=500; total time=   1.3s\n",
      "[CV] END max_features=sqrt, min_samples_leaf=3, n_estimators=10; total time=   0.0s\n",
      "[CV] END max_features=sqrt, min_samples_leaf=3, n_estimators=10; total time=   0.0s\n",
      "[CV] END max_features=sqrt, min_samples_leaf=3, n_estimators=10; total time=   0.0s\n",
      "[CV] END max_features=sqrt, min_samples_leaf=3, n_estimators=10; total time=   0.0s\n",
      "[CV] END max_features=sqrt, min_samples_leaf=3, n_estimators=10; total time=   0.0s\n",
      "[CV] END max_features=sqrt, min_samples_leaf=3, n_estimators=50; total time=   0.0s\n",
      "[CV] END max_features=sqrt, min_samples_leaf=3, n_estimators=50; total time=   0.0s\n",
      "[CV] END max_features=sqrt, min_samples_leaf=3, n_estimators=50; total time=   0.0s\n",
      "[CV] END max_features=sqrt, min_samples_leaf=3, n_estimators=50; total time=   0.0s\n",
      "[CV] END max_features=sqrt, min_samples_leaf=3, n_estimators=50; total time=   0.0s\n",
      "[CV] END max_features=sqrt, min_samples_leaf=3, n_estimators=100; total time=   0.1s\n",
      "[CV] END max_features=sqrt, min_samples_leaf=3, n_estimators=100; total time=   0.1s\n",
      "[CV] END max_features=sqrt, min_samples_leaf=3, n_estimators=100; total time=   0.1s\n",
      "[CV] END max_features=sqrt, min_samples_leaf=3, n_estimators=100; total time=   0.1s\n",
      "[CV] END max_features=sqrt, min_samples_leaf=3, n_estimators=100; total time=   0.1s\n",
      "[CV] END max_features=sqrt, min_samples_leaf=3, n_estimators=300; total time=   0.4s\n",
      "[CV] END max_features=sqrt, min_samples_leaf=3, n_estimators=300; total time=   0.5s\n",
      "[CV] END max_features=sqrt, min_samples_leaf=3, n_estimators=300; total time=   0.4s\n",
      "[CV] END max_features=sqrt, min_samples_leaf=3, n_estimators=300; total time=   0.5s\n",
      "[CV] END max_features=sqrt, min_samples_leaf=3, n_estimators=300; total time=   0.4s\n",
      "[CV] END max_features=sqrt, min_samples_leaf=3, n_estimators=500; total time=   1.0s\n",
      "[CV] END max_features=sqrt, min_samples_leaf=3, n_estimators=500; total time=   1.0s\n",
      "[CV] END max_features=sqrt, min_samples_leaf=3, n_estimators=500; total time=   0.9s\n",
      "[CV] END max_features=sqrt, min_samples_leaf=3, n_estimators=500; total time=   0.9s\n",
      "[CV] END max_features=sqrt, min_samples_leaf=3, n_estimators=500; total time=   0.9s\n",
      "[CV] END max_features=sqrt, min_samples_leaf=5, n_estimators=10; total time=   0.0s\n",
      "[CV] END max_features=sqrt, min_samples_leaf=5, n_estimators=10; total time=   0.0s\n",
      "[CV] END max_features=sqrt, min_samples_leaf=5, n_estimators=10; total time=   0.0s\n",
      "[CV] END max_features=sqrt, min_samples_leaf=5, n_estimators=10; total time=   0.0s\n",
      "[CV] END max_features=sqrt, min_samples_leaf=5, n_estimators=10; total time=   0.0s\n",
      "[CV] END max_features=sqrt, min_samples_leaf=5, n_estimators=50; total time=   0.0s\n",
      "[CV] END max_features=sqrt, min_samples_leaf=5, n_estimators=50; total time=   0.0s\n",
      "[CV] END max_features=sqrt, min_samples_leaf=5, n_estimators=50; total time=   0.0s\n",
      "[CV] END max_features=sqrt, min_samples_leaf=5, n_estimators=50; total time=   0.0s\n",
      "[CV] END max_features=sqrt, min_samples_leaf=5, n_estimators=50; total time=   0.0s\n",
      "[CV] END max_features=sqrt, min_samples_leaf=5, n_estimators=100; total time=   0.1s\n",
      "[CV] END max_features=sqrt, min_samples_leaf=5, n_estimators=100; total time=   0.1s\n",
      "[CV] END max_features=sqrt, min_samples_leaf=5, n_estimators=100; total time=   0.1s\n",
      "[CV] END max_features=sqrt, min_samples_leaf=5, n_estimators=100; total time=   0.1s\n",
      "[CV] END max_features=sqrt, min_samples_leaf=5, n_estimators=100; total time=   0.1s\n",
      "[CV] END max_features=sqrt, min_samples_leaf=5, n_estimators=300; total time=   0.4s\n",
      "[CV] END max_features=sqrt, min_samples_leaf=5, n_estimators=300; total time=   0.4s\n",
      "[CV] END max_features=sqrt, min_samples_leaf=5, n_estimators=300; total time=   0.5s\n",
      "[CV] END max_features=sqrt, min_samples_leaf=5, n_estimators=300; total time=   0.4s\n",
      "[CV] END max_features=sqrt, min_samples_leaf=5, n_estimators=300; total time=   0.4s\n",
      "[CV] END max_features=sqrt, min_samples_leaf=5, n_estimators=500; total time=   0.8s\n",
      "[CV] END max_features=sqrt, min_samples_leaf=5, n_estimators=500; total time=   0.7s\n",
      "[CV] END max_features=sqrt, min_samples_leaf=5, n_estimators=500; total time=   0.7s\n",
      "[CV] END max_features=sqrt, min_samples_leaf=5, n_estimators=500; total time=   0.7s\n",
      "[CV] END max_features=sqrt, min_samples_leaf=5, n_estimators=500; total time=   0.7s\n",
      "[CV] END max_features=sqrt, min_samples_leaf=10, n_estimators=10; total time=   0.0s\n",
      "[CV] END max_features=sqrt, min_samples_leaf=10, n_estimators=10; total time=   0.0s\n",
      "[CV] END max_features=sqrt, min_samples_leaf=10, n_estimators=10; total time=   0.0s\n",
      "[CV] END max_features=sqrt, min_samples_leaf=10, n_estimators=10; total time=   0.0s\n",
      "[CV] END max_features=sqrt, min_samples_leaf=10, n_estimators=10; total time=   0.0s\n",
      "[CV] END max_features=sqrt, min_samples_leaf=10, n_estimators=50; total time=   0.0s\n",
      "[CV] END max_features=sqrt, min_samples_leaf=10, n_estimators=50; total time=   0.0s\n",
      "[CV] END max_features=sqrt, min_samples_leaf=10, n_estimators=50; total time=   0.0s\n",
      "[CV] END max_features=sqrt, min_samples_leaf=10, n_estimators=50; total time=   0.0s\n",
      "[CV] END max_features=sqrt, min_samples_leaf=10, n_estimators=50; total time=   0.0s\n",
      "[CV] END max_features=sqrt, min_samples_leaf=10, n_estimators=100; total time=   0.0s\n",
      "[CV] END max_features=sqrt, min_samples_leaf=10, n_estimators=100; total time=   0.0s\n",
      "[CV] END max_features=sqrt, min_samples_leaf=10, n_estimators=100; total time=   0.0s\n",
      "[CV] END max_features=sqrt, min_samples_leaf=10, n_estimators=100; total time=   0.0s\n",
      "[CV] END max_features=sqrt, min_samples_leaf=10, n_estimators=100; total time=   0.1s\n",
      "[CV] END max_features=sqrt, min_samples_leaf=10, n_estimators=300; total time=   0.4s\n",
      "[CV] END max_features=sqrt, min_samples_leaf=10, n_estimators=300; total time=   0.3s\n",
      "[CV] END max_features=sqrt, min_samples_leaf=10, n_estimators=300; total time=   0.4s\n"
     ]
    },
    {
     "name": "stdout",
     "output_type": "stream",
     "text": [
      "[CV] END max_features=sqrt, min_samples_leaf=10, n_estimators=300; total time=   0.4s\n",
      "[CV] END max_features=sqrt, min_samples_leaf=10, n_estimators=300; total time=   0.4s\n",
      "[CV] END max_features=sqrt, min_samples_leaf=10, n_estimators=500; total time=   0.7s\n",
      "[CV] END max_features=sqrt, min_samples_leaf=10, n_estimators=500; total time=   0.8s\n",
      "[CV] END max_features=sqrt, min_samples_leaf=10, n_estimators=500; total time=   0.6s\n",
      "[CV] END max_features=sqrt, min_samples_leaf=10, n_estimators=500; total time=   0.7s\n",
      "[CV] END max_features=sqrt, min_samples_leaf=10, n_estimators=500; total time=   0.7s\n"
     ]
    },
    {
     "data": {
      "text/html": [
       "<style>#sk-container-id-2 {color: black;background-color: white;}#sk-container-id-2 pre{padding: 0;}#sk-container-id-2 div.sk-toggleable {background-color: white;}#sk-container-id-2 label.sk-toggleable__label {cursor: pointer;display: block;width: 100%;margin-bottom: 0;padding: 0.3em;box-sizing: border-box;text-align: center;}#sk-container-id-2 label.sk-toggleable__label-arrow:before {content: \"▸\";float: left;margin-right: 0.25em;color: #696969;}#sk-container-id-2 label.sk-toggleable__label-arrow:hover:before {color: black;}#sk-container-id-2 div.sk-estimator:hover label.sk-toggleable__label-arrow:before {color: black;}#sk-container-id-2 div.sk-toggleable__content {max-height: 0;max-width: 0;overflow: hidden;text-align: left;background-color: #f0f8ff;}#sk-container-id-2 div.sk-toggleable__content pre {margin: 0.2em;color: black;border-radius: 0.25em;background-color: #f0f8ff;}#sk-container-id-2 input.sk-toggleable__control:checked~div.sk-toggleable__content {max-height: 200px;max-width: 100%;overflow: auto;}#sk-container-id-2 input.sk-toggleable__control:checked~label.sk-toggleable__label-arrow:before {content: \"▾\";}#sk-container-id-2 div.sk-estimator input.sk-toggleable__control:checked~label.sk-toggleable__label {background-color: #d4ebff;}#sk-container-id-2 div.sk-label input.sk-toggleable__control:checked~label.sk-toggleable__label {background-color: #d4ebff;}#sk-container-id-2 input.sk-hidden--visually {border: 0;clip: rect(1px 1px 1px 1px);clip: rect(1px, 1px, 1px, 1px);height: 1px;margin: -1px;overflow: hidden;padding: 0;position: absolute;width: 1px;}#sk-container-id-2 div.sk-estimator {font-family: monospace;background-color: #f0f8ff;border: 1px dotted black;border-radius: 0.25em;box-sizing: border-box;margin-bottom: 0.5em;}#sk-container-id-2 div.sk-estimator:hover {background-color: #d4ebff;}#sk-container-id-2 div.sk-parallel-item::after {content: \"\";width: 100%;border-bottom: 1px solid gray;flex-grow: 1;}#sk-container-id-2 div.sk-label:hover label.sk-toggleable__label {background-color: #d4ebff;}#sk-container-id-2 div.sk-serial::before {content: \"\";position: absolute;border-left: 1px solid gray;box-sizing: border-box;top: 0;bottom: 0;left: 50%;z-index: 0;}#sk-container-id-2 div.sk-serial {display: flex;flex-direction: column;align-items: center;background-color: white;padding-right: 0.2em;padding-left: 0.2em;position: relative;}#sk-container-id-2 div.sk-item {position: relative;z-index: 1;}#sk-container-id-2 div.sk-parallel {display: flex;align-items: stretch;justify-content: center;background-color: white;position: relative;}#sk-container-id-2 div.sk-item::before, #sk-container-id-2 div.sk-parallel-item::before {content: \"\";position: absolute;border-left: 1px solid gray;box-sizing: border-box;top: 0;bottom: 0;left: 50%;z-index: -1;}#sk-container-id-2 div.sk-parallel-item {display: flex;flex-direction: column;z-index: 1;position: relative;background-color: white;}#sk-container-id-2 div.sk-parallel-item:first-child::after {align-self: flex-end;width: 50%;}#sk-container-id-2 div.sk-parallel-item:last-child::after {align-self: flex-start;width: 50%;}#sk-container-id-2 div.sk-parallel-item:only-child::after {width: 0;}#sk-container-id-2 div.sk-dashed-wrapped {border: 1px dashed gray;margin: 0 0.4em 0.5em 0.4em;box-sizing: border-box;padding-bottom: 0.4em;background-color: white;}#sk-container-id-2 div.sk-label label {font-family: monospace;font-weight: bold;display: inline-block;line-height: 1.2em;}#sk-container-id-2 div.sk-label-container {text-align: center;}#sk-container-id-2 div.sk-container {/* jupyter's `normalize.less` sets `[hidden] { display: none; }` but bootstrap.min.css set `[hidden] { display: none !important; }` so we also need the `!important` here to be able to override the default hidden behavior on the sphinx rendered scikit-learn.org. See: https://github.com/scikit-learn/scikit-learn/issues/21755 */display: inline-block !important;position: relative;}#sk-container-id-2 div.sk-text-repr-fallback {display: none;}</style><div id=\"sk-container-id-2\" class=\"sk-top-container\"><div class=\"sk-text-repr-fallback\"><pre>GridSearchCV(cv=5, estimator=RandomForestRegressor(),\n",
       "             param_grid={&#x27;max_features&#x27;: [&#x27;auto&#x27;, &#x27;sqrt&#x27;],\n",
       "                         &#x27;min_samples_leaf&#x27;: [1, 3, 5, 10],\n",
       "                         &#x27;n_estimators&#x27;: [10, 50, 100, 300, 500]},\n",
       "             verbose=2)</pre><b>In a Jupyter environment, please rerun this cell to show the HTML representation or trust the notebook. <br />On GitHub, the HTML representation is unable to render, please try loading this page with nbviewer.org.</b></div><div class=\"sk-container\" hidden><div class=\"sk-item sk-dashed-wrapped\"><div class=\"sk-label-container\"><div class=\"sk-label sk-toggleable\"><input class=\"sk-toggleable__control sk-hidden--visually\" id=\"sk-estimator-id-4\" type=\"checkbox\" ><label for=\"sk-estimator-id-4\" class=\"sk-toggleable__label sk-toggleable__label-arrow\">GridSearchCV</label><div class=\"sk-toggleable__content\"><pre>GridSearchCV(cv=5, estimator=RandomForestRegressor(),\n",
       "             param_grid={&#x27;max_features&#x27;: [&#x27;auto&#x27;, &#x27;sqrt&#x27;],\n",
       "                         &#x27;min_samples_leaf&#x27;: [1, 3, 5, 10],\n",
       "                         &#x27;n_estimators&#x27;: [10, 50, 100, 300, 500]},\n",
       "             verbose=2)</pre></div></div></div><div class=\"sk-parallel\"><div class=\"sk-parallel-item\"><div class=\"sk-item\"><div class=\"sk-label-container\"><div class=\"sk-label sk-toggleable\"><input class=\"sk-toggleable__control sk-hidden--visually\" id=\"sk-estimator-id-5\" type=\"checkbox\" ><label for=\"sk-estimator-id-5\" class=\"sk-toggleable__label sk-toggleable__label-arrow\">estimator: RandomForestRegressor</label><div class=\"sk-toggleable__content\"><pre>RandomForestRegressor()</pre></div></div></div><div class=\"sk-serial\"><div class=\"sk-item\"><div class=\"sk-estimator sk-toggleable\"><input class=\"sk-toggleable__control sk-hidden--visually\" id=\"sk-estimator-id-6\" type=\"checkbox\" ><label for=\"sk-estimator-id-6\" class=\"sk-toggleable__label sk-toggleable__label-arrow\">RandomForestRegressor</label><div class=\"sk-toggleable__content\"><pre>RandomForestRegressor()</pre></div></div></div></div></div></div></div></div></div></div>"
      ],
      "text/plain": [
       "GridSearchCV(cv=5, estimator=RandomForestRegressor(),\n",
       "             param_grid={'max_features': ['auto', 'sqrt'],\n",
       "                         'min_samples_leaf': [1, 3, 5, 10],\n",
       "                         'n_estimators': [10, 50, 100, 300, 500]},\n",
       "             verbose=2)"
      ]
     },
     "execution_count": 45,
     "metadata": {},
     "output_type": "execute_result"
    }
   ],
   "source": [
    "rfr_search = GridSearchCV(RandomForestRegressor(),\n",
    "                               param_grid = parameters,\n",
    "                               #scoring='mean_squared_error',\n",
    "                              verbose=2,\n",
    "                               cv=5)\n",
    "\n",
    "rfr_search.fit(X_train, y_train)"
   ]
  },
  {
   "cell_type": "code",
   "execution_count": 46,
   "id": "2491f652",
   "metadata": {},
   "outputs": [
    {
     "data": {
      "text/plain": [
       "{'max_features': 'auto', 'min_samples_leaf': 1, 'n_estimators': 500}"
      ]
     },
     "execution_count": 46,
     "metadata": {},
     "output_type": "execute_result"
    }
   ],
   "source": [
    "rfr_search.best_params_"
   ]
  },
  {
   "cell_type": "code",
   "execution_count": 47,
   "id": "00161861",
   "metadata": {},
   "outputs": [],
   "source": [
    "import math\n",
    "results = results.append(pd.DataFrame({\n",
    "    'Modèle' : ['Random Forest Regressor'],\n",
    "    'Score_RMSE' : [math.sqrt(mean_squared_error(rfr_search.predict(X_test), y_test))]}), ignore_index=True)"
   ]
  },
  {
   "cell_type": "code",
   "execution_count": 48,
   "id": "9ca0e5f2",
   "metadata": {},
   "outputs": [],
   "source": [
    "coefficients = abs(rfr_search.best_estimator_.feature_importances_)\n",
    "liste_coefs_rer = pd.concat((pd.DataFrame(X.columns, columns = ['Variable']), \n",
    "                      pd.DataFrame(coefficients, columns = ['Coefficient'])), axis = 1).sort_values(by='Coefficient', ascending = False)"
   ]
  },
  {
   "cell_type": "code",
   "execution_count": 50,
   "id": "182ca3bf",
   "metadata": {},
   "outputs": [
    {
     "data": {
      "image/png": "[encoded data removed]",
      "text/plain": [
       "<Figure size 600x600 with 1 Axes>"
      ]
     },
     "metadata": {},
     "output_type": "display_data"
    }
   ],
   "source": [
    "plt.figure(figsize=(6,6))\n",
    "plt.title('RandomForestRegressor - Importance des 20 premières Features')\n",
    "sns.barplot(y = liste_coefs_rer['Variable'].head(20),\n",
    "            x = liste_coefs_rer['Coefficient'].head(20))\n",
    "plt.show()"
   ]
  },
  {
   "cell_type": "markdown",
   "id": "5e795db6",
   "metadata": {},
   "source": [
    "## Support Vector Regression"
   ]
  },
  {
   "cell_type": "code",
   "execution_count": null,
   "id": "0e75a0e3",
   "metadata": {},
   "outputs": [],
   "source": [
    "from sklearn.svm import SVR\n",
    "\n",
    "parameters = {'gamma' : [1e-8, 1e-7, 1e-6, 1e-5, 1e-4, 1e-3, 1e-2, 1e-1], #kernel coefficient [ici kernel = Radial Basis Function]\n",
    "              'epsilon' : [0.001, 0.01, 0.1, 1], #erreur tolérée par l'algorithme\n",
    "              'C' : [0.001, 0.01, 0.1, 1, 10]} #parametre de régularisation\n",
    "\n",
    "svm = GridSearchCV(estimator = SVR(), \n",
    "                      param_grid = parameters,\n",
    "                      #scoring = 'neg_mean_squared_error',\n",
    "                      cv=5,\n",
    "                   verbose=2\n",
    "                     )\n",
    "\n",
    "svm.fit(X_train, y_train)"
   ]
  },
  {
   "cell_type": "code",
   "execution_count": null,
   "id": "0e899103",
   "metadata": {},
   "outputs": [],
   "source": [
    "svm.best_params_"
   ]
  },
  {
   "cell_type": "code",
   "execution_count": null,
   "id": "1e58e122",
   "metadata": {},
   "outputs": [],
   "source": [
    "results = results.append(pd.DataFrame({\n",
    "    'Modèle' : ['Support Vector Machine'],\n",
    "    'Score_RMSE' : [math.sqrt(mean_squared_error(svm.predict(X_test), y_test))]}),\n",
    "              ignore_index=True)"
   ]
  },
  {
   "cell_type": "markdown",
   "id": "63788cc3",
   "metadata": {},
   "source": [
    "## XG Boost "
   ]
  },
  {
   "cell_type": "code",
   "execution_count": null,
   "id": "07d04784",
   "metadata": {},
   "outputs": [],
   "source": [
    "from xgboost import XGBRegressor"
   ]
  },
  {
   "cell_type": "code",
   "execution_count": null,
   "id": "e55a5083",
   "metadata": {},
   "outputs": [],
   "source": []
  },
  {
   "cell_type": "code",
   "execution_count": null,
   "id": "bf086dab",
   "metadata": {},
   "outputs": [],
   "source": []
  },
  {
   "cell_type": "code",
   "execution_count": null,
   "id": "0cfe7d51",
   "metadata": {
    "scrolled": true
   },
   "outputs": [],
   "source": [
    "parameters = {\n",
    "    'n_estimators' : [100,500,1000,2000]\n",
    "}\n",
    "xgb_grid = GridSearchCV(XGBRegressor(n_jobs=-1),\n",
    "                        param_grid = parameters,\n",
    "                      #scoring = 'neg_mean_squared_error',\n",
    "                        cv = 5,\n",
    "                        verbose=5)\n",
    "xgb_grid.fit(X_train, y_train)"
   ]
  },
  {
   "cell_type": "code",
   "execution_count": null,
   "id": "43adcf8c",
   "metadata": {},
   "outputs": [],
   "source": [
    "xgb_grid.best_params_"
   ]
  },
  {
   "cell_type": "code",
   "execution_count": null,
   "id": "95c4165f",
   "metadata": {},
   "outputs": [],
   "source": [
    "xgb_grid.best_estimator_"
   ]
  },
  {
   "cell_type": "code",
   "execution_count": null,
   "id": "4fdc2560",
   "metadata": {},
   "outputs": [],
   "source": [
    "xgb_grid.best_estimator_.feature_importances_"
   ]
  },
  {
   "cell_type": "code",
   "execution_count": null,
   "id": "40e7cae1",
   "metadata": {},
   "outputs": [],
   "source": [
    "import math\n",
    "results = results.append(pd.DataFrame({\n",
    "    'Modèle' : ['XGBoost'],\n",
    "    'Score_RMSE' : [math.sqrt(mean_squared_error(xgb_grid.predict(X_test), y_test))]}),\n",
    "              ignore_index=True)"
   ]
  },
  {
   "cell_type": "code",
   "execution_count": null,
   "id": "45ce195a",
   "metadata": {},
   "outputs": [],
   "source": [
    "results"
   ]
  },
  {
   "cell_type": "code",
   "execution_count": null,
   "id": "9c17df72",
   "metadata": {},
   "outputs": [],
   "source": []
  },
  {
   "cell_type": "markdown",
   "id": "c94cac19",
   "metadata": {},
   "source": [
    "## Export des modèles pour réutilisation ultérieure"
   ]
  },
  {
   "cell_type": "code",
   "execution_count": null,
   "id": "7fd4c1a1",
   "metadata": {
    "scrolled": true
   },
   "outputs": [],
   "source": [
    "rfr_search"
   ]
  },
  {
   "cell_type": "code",
   "execution_count": null,
   "id": "0d317c95",
   "metadata": {},
   "outputs": [],
   "source": [
    "dict_modeles = {\n",
    "    'Elastic Net': elastic_grid.best_estimator_,\n",
    "    'Random Forest Regressor' : rfr_search.best_estimator_,\n",
    "    'SVM' : svm.best_estimator_,\n",
    "    'XGBoost' : xgb_grid.best_estimator_,\n",
    "}"
   ]
  },
  {
   "cell_type": "code",
   "execution_count": null,
   "id": "98a63c18",
   "metadata": {},
   "outputs": [],
   "source": []
  },
  {
   "cell_type": "code",
   "execution_count": null,
   "id": "44ae790c",
   "metadata": {},
   "outputs": [],
   "source": []
  },
  {
   "cell_type": "markdown",
   "id": "b89900d4",
   "metadata": {},
   "source": [
    "<div class=\"alert alert-info\">\n",
    "    <font id=\"section_4\">\n",
    "        <h1 style=\"font-size:25px;\"><strong>04. Comparaison des modèles</strong></h1>\n",
    "</div>"
   ]
  },
  {
   "cell_type": "code",
   "execution_count": null,
   "id": "b29751dc",
   "metadata": {},
   "outputs": [],
   "source": [
    "results['RMSE_%'] = results['Score_RMSE'].divide(y_test.mean())"
   ]
  },
  {
   "cell_type": "code",
   "execution_count": null,
   "id": "57b3b77d",
   "metadata": {},
   "outputs": [],
   "source": [
    "results"
   ]
  },
  {
   "cell_type": "markdown",
   "id": "332fa36b",
   "metadata": {},
   "source": [
    "Dans le tableau, les modèles présentent des scores RMSE plus élevés par rapport aux valeurs réelles, ce qui indique une erreur de prédiction plus importante. Les scores RMSE sont autour de 3,7, ce qui signifie que l'erreur moyenne de prédiction est d'environ 3,7 unités par rapport aux valeurs réelles.\n",
    "\n",
    "Les % RMSE sont d'environ 0,18 %, ce qui représente une **erreur relative moyenne d'environ 0,18 %** par rapport à la valeur à prédire. \n",
    "\n",
    "En conclusion, les modèles du tableau montrent une performance moins précise en termes de prédiction par rapport aux valeurs réelles, ce qui souligne la nécessité d'améliorer les modèles ou d'explorer d'autres approches pour obtenir de meilleurs résultats."
   ]
  },
  {
   "cell_type": "code",
   "execution_count": null,
   "id": "582f3581",
   "metadata": {},
   "outputs": [],
   "source": [
    "plt.figure(figsize=(12,4))\n",
    "plt.title('Comparaison des RMSE relatives des modèles (en %)')\n",
    "chart = sns.barplot(x = results['Modèle'], \n",
    "               y = results['RMSE_%']*100)\n",
    "chart.set_xticklabels(labels = results['Modèle'], \n",
    "                      rotation=45,\n",
    "                     horizontalalignment='right',\n",
    "                     size=12,\n",
    "                     )\n",
    "ax = plt.gca()\n",
    "ax.set_ylim([0, 5])\n",
    "plt.show()"
   ]
  },
  {
   "cell_type": "markdown",
   "id": "a21794e6",
   "metadata": {},
   "source": [
    "Elasticnet Regression et Random Forest Regressor sont les modèles avec la plus faible RMSE.\n",
    "\n",
    "Regardons quel algorithme est entraîné le plus rapidement et prédit le plus rapidement, pour voir lequel sélectionner pour les étapes suivantes"
   ]
  },
  {
   "cell_type": "markdown",
   "id": "6c0b6260",
   "metadata": {},
   "source": [
    "Comparaison avec la RMSE pour un estimateur donnant la valeur moyenne"
   ]
  },
  {
   "cell_type": "code",
   "execution_count": null,
   "id": "1f8a9bfa",
   "metadata": {},
   "outputs": [],
   "source": [
    "math.sqrt(mean_squared_error(y_train.mean()*np.ones(y_test.shape[0]), y_test))"
   ]
  },
  {
   "cell_type": "code",
   "execution_count": null,
   "id": "bf3cd1e1",
   "metadata": {},
   "outputs": [],
   "source": [
    "rfr_search.best_estimator_"
   ]
  },
  {
   "cell_type": "markdown",
   "id": "89decf14",
   "metadata": {},
   "source": [
    "le modèle Random Forest semble plus rapide à entraîner"
   ]
  },
  {
   "cell_type": "code",
   "execution_count": null,
   "id": "d091b060",
   "metadata": {},
   "outputs": [],
   "source": [
    "list(dict_modeles.keys())"
   ]
  },
  {
   "cell_type": "code",
   "execution_count": null,
   "id": "78f5aaf8",
   "metadata": {
    "scrolled": true
   },
   "outputs": [],
   "source": [
    "plt.title('Temps d\\'exécution des algorithmes pour la prédiction \\n(jeu d\\'entrainement) - échelle logarithmique')\n",
    "#sns.barplot(x=nom_modeles,\n",
    "sns.barplot(x=list(dict_modeles.keys()),            \n",
    "           y = [5.32, 640, 2.14, 145])\n",
    "ax = plt.gca()\n",
    "ax.set_yscale('log')"
   ]
  },
  {
   "cell_type": "markdown",
   "id": "b747b784",
   "metadata": {},
   "source": [
    "Le temps d'exécution du modèle **XGBoost** est significativement plus faible que celui du modèle **Random Forest** (environ 4 fois plus rapide). Cette différence de temps d'exécution peut être considérée comme un critère important lors du choix entre XGBoost et Random Forest Regressor, même si cela implique une légère dégradation des performances.\n",
    "\n",
    "En effet, un temps d'exécution réduit permet d'obtenir les prédictions plus rapidement, ce qui peut être avantageux dans des situations où le temps est un facteur critique, notamment pour les grands ensembles de données ou les applications en temps réel. Le modèle **XGBoost** offre ainsi une alternative intéressante en offrant une exécution plus rapide tout en maintenant une performance raisonnablement bonne.\n",
    "\n",
    "Cependant, il est important de noter que le compromis entre le temps d'exécution et la performance dépend du contexte spécifique du problème. Dans certains cas, la performance peut être le critère principal, tandis que dans d'autres cas, le temps d'exécution peut prendre le dessus. \n",
    "\n",
    "En résumé, si le temps d'exécution est un facteur critique pour la application et que on est prêt à accepter une légère dégradation de la performance, **XGBoost** peut être une option intéressante à considérer en raison de sa rapidité d'exécution par rapport à Random Forest Regressor."
   ]
  },
  {
   "cell_type": "markdown",
   "id": "e9b03ab1",
   "metadata": {},
   "source": [
    "<div class=\"alert alert-info\">\n",
    "    <font id=\"section_5\">\n",
    "        <h1 style=\"font-size:25px;\"><strong>05. Vérification des prédictions</strong></h1>\n",
    "</div>"
   ]
  },
  {
   "cell_type": "markdown",
   "id": "2b706b2b",
   "metadata": {},
   "source": [
    "Regardons avec un exemple ce que donne la prédiction"
   ]
  },
  {
   "cell_type": "code",
   "execution_count": null,
   "id": "5d7b2b98",
   "metadata": {},
   "outputs": [],
   "source": [
    "X_extrait = X_test\n",
    "y_extrait = y_test"
   ]
  },
  {
   "cell_type": "code",
   "execution_count": null,
   "id": "23d865e0",
   "metadata": {},
   "outputs": [],
   "source": [
    "X_extrait.head()"
   ]
  },
  {
   "cell_type": "code",
   "execution_count": null,
   "id": "b3906e9b",
   "metadata": {},
   "outputs": [],
   "source": [
    "y_extrait.head()"
   ]
  },
  {
   "cell_type": "code",
   "execution_count": null,
   "id": "6132f15f",
   "metadata": {},
   "outputs": [],
   "source": [
    "type(y_extrait)"
   ]
  },
  {
   "cell_type": "code",
   "execution_count": null,
   "id": "0bcea5d4",
   "metadata": {},
   "outputs": [],
   "source": []
  },
  {
   "cell_type": "code",
   "execution_count": null,
   "id": "6070e5ed",
   "metadata": {},
   "outputs": [],
   "source": []
  },
  {
   "cell_type": "markdown",
   "id": "9bad2aeb",
   "metadata": {},
   "source": [
    "<div class=\"alert alert-info\">\n",
    "    <font id=\"section_6\">\n",
    "        <h1 style=\"font-size:25px;\"><strong>06. Intérêt du Energy Star Score</strong></h1>\n",
    "</div>"
   ]
  },
  {
   "cell_type": "code",
   "execution_count": null,
   "id": "1ea1404a",
   "metadata": {},
   "outputs": [],
   "source": [
    "X_en = X.copy()"
   ]
  },
  {
   "cell_type": "code",
   "execution_count": null,
   "id": "9a5a9e74",
   "metadata": {},
   "outputs": [],
   "source": [
    "X_en['energy_star_score'] = energy_star_score"
   ]
  },
  {
   "cell_type": "code",
   "execution_count": null,
   "id": "4cdfe0d4",
   "metadata": {},
   "outputs": [],
   "source": [
    "y_en = y['Log2-SiteEnergyUseWN(kBtu)'].copy()\n",
    "y_en.drop(X_en[X_en['energy_star_score'].isna()].index, inplace=True)"
   ]
  },
  {
   "cell_type": "code",
   "execution_count": null,
   "id": "e1201cb1",
   "metadata": {},
   "outputs": [],
   "source": [
    "X_en.drop(X_en[X_en['energy_star_score'].isna()].index, inplace=True)"
   ]
  },
  {
   "cell_type": "code",
   "execution_count": null,
   "id": "a013c905",
   "metadata": {},
   "outputs": [],
   "source": [
    "from sklearn.model_selection import train_test_split\n",
    "X_en_train, X_en_test, y_en_train, y_en_test = train_test_split(X_en, y_en, test_size = 0.2, random_state = 42)"
   ]
  },
  {
   "cell_type": "code",
   "execution_count": null,
   "id": "a416bb59",
   "metadata": {},
   "outputs": [],
   "source": [
    "model_en = GridSearchCV(RandomForestRegressor(),\n",
    "                               param_grid = parameters,\n",
    "                               #scoring='mean_squared_error',\n",
    "                              verbose=2,\n",
    "                               cv=5)\n",
    "\n",
    "model_en.fit(X_en_train, y_en_train)"
   ]
  },
  {
   "cell_type": "code",
   "execution_count": null,
   "id": "1f7a047b",
   "metadata": {},
   "outputs": [],
   "source": [
    "math.sqrt(mean_squared_error(model_en.predict(X_en_test), y_en_test))"
   ]
  },
  {
   "cell_type": "markdown",
   "id": "91d7ce56",
   "metadata": {},
   "source": [
    "Entrainons un autre modèle avec les mêmes données sans le Energy Star Score"
   ]
  },
  {
   "cell_type": "code",
   "execution_count": null,
   "id": "318d011c",
   "metadata": {},
   "outputs": [],
   "source": [
    "X_en_train.drop(['energy_star_score'], axis=1, inplace=True)\n",
    "X_en_test.drop(['energy_star_score'], axis=1, inplace=True)"
   ]
  },
  {
   "cell_type": "code",
   "execution_count": null,
   "id": "e4c62f07",
   "metadata": {},
   "outputs": [],
   "source": [
    "model_en = GridSearchCV(RandomForestRegressor(),\n",
    "                               param_grid = parameters,\n",
    "                               #scoring='mean_squared_error',\n",
    "                              verbose=2,\n",
    "                               cv=5)\n",
    "\n",
    "model_en.fit(X_en_train, y_en_train)"
   ]
  },
  {
   "cell_type": "code",
   "execution_count": null,
   "id": "bc3f0cb6",
   "metadata": {},
   "outputs": [],
   "source": [
    "math.sqrt(mean_squared_error(model_en.predict(X_en_test), y_en_test))"
   ]
  },
  {
   "cell_type": "code",
   "execution_count": null,
   "id": "e3a72109",
   "metadata": {},
   "outputs": [],
   "source": []
  },
  {
   "cell_type": "markdown",
   "id": "061c9fcc",
   "metadata": {},
   "source": []
  },
  {
   "cell_type": "markdown",
   "id": "cb84bad5",
   "metadata": {},
   "source": [
    "<div class=\"alert alert-info\">\n",
    "    <font id=\"section_7\">\n",
    "    <h1 style=\"font-size:25px;\"><strong>07. Liens importants</strong></h1>\n",
    "</div>"
   ]
  },
  {
   "cell_type": "markdown",
   "id": "c36cd53f",
   "metadata": {},
   "source": [
    "* <a href=\"https://openclassrooms.com/fr/projects/629/assignmen\" target=\"_blank\">Lien vers consignes : </a>\n",
    "\n",
    "* <a href=\"https://www.energystar.gov/buildings/facility-owners-and-managers/existing-buildings/use-portfolio-manager/interpret-your-results/what\" target=\"_blank\">Lien vers score Star Energy : </a>\n",
    "\n",
    "* <a href=\"https://data.seattle.gov/dataset/2016-Building-Energy-Benchmarking/2bpz-gwpy\" target=\"_blank\">Lien vers la signification des variables: </a>\n",
    "\n",
    "* Notebooks consultés\n",
    "* 1. <a href=\"https://www.kaggle.com/code/marcbourgeois/p-lec-01-cleaning\" target=\"_blank\">Kaggle Notebook 1  : </a>\n",
    "* 2. <a href=\"https://www.kaggle.com/code/marcbourgeois/p-lec-01-cleaning\" target=\"_blank\">Kaggle Notebook 2  : </a>"
   ]
  },
  {
   "cell_type": "code",
   "execution_count": null,
   "id": "a1532b99",
   "metadata": {},
   "outputs": [],
   "source": [
    "#Enregistrer le temps de fin\n",
    "fin = time.time()"
   ]
  },
  {
   "cell_type": "code",
   "execution_count": null,
   "id": "86005394",
   "metadata": {},
   "outputs": [],
   "source": [
    "#Calculer la durée en secondes\n",
    "durée = (fin - début) / 60"
   ]
  },
  {
   "cell_type": "code",
   "execution_count": null,
   "id": "3058ae43",
   "metadata": {},
   "outputs": [],
   "source": [
    "#Afficher le temps d'exécution\n",
    "print(\"Le temps d'exécution était de\", durée, \"minutes.\")"
   ]
  },
  {
   "cell_type": "code",
   "execution_count": null,
   "id": "baf32554",
   "metadata": {},
   "outputs": [],
   "source": []
  }
 ],
 "metadata": {
  "kernelspec": {
   "display_name": "Python 3 (ipykernel)",
   "language": "python",
   "name": "python3"
  },
  "language_info": {
   "codemirror_mode": {
    "name": "ipython",
    "version": 3
   },
   "file_extension": ".py",
   "mimetype": "text/x-python",
   "name": "python",
   "nbconvert_exporter": "python",
   "pygments_lexer": "ipython3",
   "version": "3.9.16"
  }
 },
 "nbformat": 4,
 "nbformat_minor": 5
}
